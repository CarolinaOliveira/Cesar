{
  "nbformat": 4,
  "nbformat_minor": 0,
  "metadata": {
    "colab": {
      "provenance": [],
      "collapsed_sections": [
        "GnHfh4_28jSE",
        "wmpHywsPSVFw",
        "ya05uGXx9Grk",
        "ZClK0Dkd_KKJ",
        "5f7x3ac0Al0p",
        "up9TIqxCd3P0",
        "9GyAjqEuDz3E",
        "Q9WgECAs-goB",
        "lvbLXUnmHLrv",
        "O6n2V-XVGM5a"
      ]
    },
    "kernelspec": {
      "name": "python3",
      "display_name": "Python 3"
    },
    "language_info": {
      "name": "python"
    }
  },
  "cells": [
    {
      "cell_type": "markdown",
      "source": [
        "**Engenharia e Análise de Dados 2022.2**\n",
        "\n",
        "**Avaliação** : Probabilidade e Estatística  (PARTE 2)\n",
        "\n",
        "**Professor** : Everton Dias ⛩\n",
        "\n",
        "\n",
        "> Atividade apresentada como parte integrante da avaliação, e desenvolvida por : Carol (Nadja Carolina Santos de Oliveira).\n",
        "\n",
        "Consiste em aplicar os assuntos que foram abordados em sala, a um Dataset escolhido entre os sugeridos pelo professor.\n",
        "\n",
        "**DATASET ESCOLHIDO**: https://www.kaggle.com/datasets/brunobacelardc/myanimelist-top-1000-anime\n"
      ],
      "metadata": {
        "id": "V0XnHD_Cq7fo"
      }
    },
    {
      "cell_type": "markdown",
      "source": [
        "A finalidade será  relacionar à popularidade dos animes, considerando suas pontuações, classificações de popularidade, entre outros.\n",
        "Tendo por base o arquivo Anime_Aval_P2.csv."
      ],
      "metadata": {
        "id": "I0GHwZFlY4xh"
      }
    },
    {
      "cell_type": "markdown",
      "source": [
        "**Referências**:\n",
        "\n",
        "\n",
        "1.   Complemento para utilização de python em estística:\n",
        "*    https://www.alura.com.br/conteudo/estatistica-probabilidade-e-amostragem \n",
        "\n",
        "\n",
        "\n",
        "2.   Complemento de documentação:\n",
        "*   https://felipegalvao.com.br/pt/blog/probability-and-some-applications-in-python/ \n",
        "\n",
        "*   https://insightlab.ufc.br/6-truques-do-pandas-para-impulsionar-sua-analise-de-dados\n",
        "\n",
        "*   https://colab.research.google.com/notebooks/data_table.ipynb \n",
        "*   https://tmfilho.github.io/pyestbook/math/03_scip.html \n",
        "\n",
        "\n"
      ],
      "metadata": {
        "id": "e2lFAU2H-Y3c"
      }
    },
    {
      "cell_type": "markdown",
      "source": [
        "# **INSTALAÇÃO DAS  BIBLIOTECAS USADAS**"
      ],
      "metadata": {
        "id": "iQZkx22E8Lwm"
      }
    },
    {
      "cell_type": "code",
      "source": [
        "!pip install streamlit\n",
        "!pip install pandas \n",
        "!pip install matplotlib\n",
        "!pip install sklearn\n",
        "!pip install seaborn\n",
        "!pip install numpy \n",
        "!pip install googletrans "
      ],
      "metadata": {
        "colab": {
          "base_uri": "https://localhost:8080/"
        },
        "id": "oyVE0bv98AWX",
        "outputId": "738c1404-d129-4a08-9d31-0237864c8c2f"
      },
      "execution_count": null,
      "outputs": [
        {
          "output_type": "stream",
          "name": "stdout",
          "text": [
            "Looking in indexes: https://pypi.org/simple, https://us-python.pkg.dev/colab-wheels/public/simple/\n",
            "Collecting streamlit\n",
            "  Downloading streamlit-1.15.2-py2.py3-none-any.whl (9.2 MB)\n",
            "\u001b[K     |████████████████████████████████| 9.2 MB 5.1 MB/s \n",
            "\u001b[?25hRequirement already satisfied: pandas>=0.21.0 in /usr/local/lib/python3.8/dist-packages (from streamlit) (1.3.5)\n",
            "Requirement already satisfied: requests>=2.4 in /usr/local/lib/python3.8/dist-packages (from streamlit) (2.23.0)\n",
            "Collecting semver\n",
            "  Downloading semver-2.13.0-py2.py3-none-any.whl (12 kB)\n",
            "Collecting validators>=0.2\n",
            "  Downloading validators-0.20.0.tar.gz (30 kB)\n",
            "Collecting watchdog\n",
            "  Downloading watchdog-2.1.9-py3-none-manylinux2014_x86_64.whl (78 kB)\n",
            "\u001b[K     |████████████████████████████████| 78 kB 6.7 MB/s \n",
            "\u001b[?25hRequirement already satisfied: toml in /usr/local/lib/python3.8/dist-packages (from streamlit) (0.10.2)\n",
            "Requirement already satisfied: pillow>=6.2.0 in /usr/local/lib/python3.8/dist-packages (from streamlit) (7.1.2)\n",
            "Requirement already satisfied: packaging>=14.1 in /usr/local/lib/python3.8/dist-packages (from streamlit) (21.3)\n",
            "Collecting blinker>=1.0.0\n",
            "  Downloading blinker-1.5-py2.py3-none-any.whl (12 kB)\n",
            "Requirement already satisfied: importlib-metadata>=1.4 in /usr/local/lib/python3.8/dist-packages (from streamlit) (4.13.0)\n",
            "Collecting rich>=10.11.0\n",
            "  Downloading rich-12.6.0-py3-none-any.whl (237 kB)\n",
            "\u001b[K     |████████████████████████████████| 237 kB 48.6 MB/s \n",
            "\u001b[?25hCollecting pydeck>=0.1.dev5\n",
            "  Downloading pydeck-0.8.0-py2.py3-none-any.whl (4.7 MB)\n",
            "\u001b[K     |████████████████████████████████| 4.7 MB 48.5 MB/s \n",
            "\u001b[?25hCollecting pympler>=0.9\n",
            "  Downloading Pympler-1.0.1-py3-none-any.whl (164 kB)\n",
            "\u001b[K     |████████████████████████████████| 164 kB 64.5 MB/s \n",
            "\u001b[?25hRequirement already satisfied: numpy in /usr/local/lib/python3.8/dist-packages (from streamlit) (1.21.6)\n",
            "Collecting gitpython!=3.1.19\n",
            "  Downloading GitPython-3.1.29-py3-none-any.whl (182 kB)\n",
            "\u001b[K     |████████████████████████████████| 182 kB 53.4 MB/s \n",
            "\u001b[?25hRequirement already satisfied: typing-extensions>=3.10.0.0 in /usr/local/lib/python3.8/dist-packages (from streamlit) (4.1.1)\n",
            "Requirement already satisfied: tzlocal>=1.1 in /usr/local/lib/python3.8/dist-packages (from streamlit) (1.5.1)\n",
            "Requirement already satisfied: altair>=3.2.0 in /usr/local/lib/python3.8/dist-packages (from streamlit) (4.2.0)\n",
            "Requirement already satisfied: click>=7.0 in /usr/local/lib/python3.8/dist-packages (from streamlit) (7.1.2)\n",
            "Requirement already satisfied: python-dateutil in /usr/local/lib/python3.8/dist-packages (from streamlit) (2.8.2)\n",
            "Requirement already satisfied: cachetools>=4.0 in /usr/local/lib/python3.8/dist-packages (from streamlit) (5.2.0)\n",
            "Requirement already satisfied: protobuf<4,>=3.12 in /usr/local/lib/python3.8/dist-packages (from streamlit) (3.19.6)\n",
            "Requirement already satisfied: tornado>=5.0 in /usr/local/lib/python3.8/dist-packages (from streamlit) (6.0.4)\n",
            "Requirement already satisfied: pyarrow>=4.0 in /usr/local/lib/python3.8/dist-packages (from streamlit) (9.0.0)\n",
            "Requirement already satisfied: entrypoints in /usr/local/lib/python3.8/dist-packages (from altair>=3.2.0->streamlit) (0.4)\n",
            "Requirement already satisfied: jinja2 in /usr/local/lib/python3.8/dist-packages (from altair>=3.2.0->streamlit) (2.11.3)\n",
            "Requirement already satisfied: toolz in /usr/local/lib/python3.8/dist-packages (from altair>=3.2.0->streamlit) (0.12.0)\n",
            "Requirement already satisfied: jsonschema>=3.0 in /usr/local/lib/python3.8/dist-packages (from altair>=3.2.0->streamlit) (4.3.3)\n",
            "Collecting gitdb<5,>=4.0.1\n",
            "  Downloading gitdb-4.0.10-py3-none-any.whl (62 kB)\n",
            "\u001b[K     |████████████████████████████████| 62 kB 1.3 MB/s \n",
            "\u001b[?25hCollecting smmap<6,>=3.0.1\n",
            "  Downloading smmap-5.0.0-py3-none-any.whl (24 kB)\n",
            "Requirement already satisfied: zipp>=0.5 in /usr/local/lib/python3.8/dist-packages (from importlib-metadata>=1.4->streamlit) (3.10.0)\n",
            "Requirement already satisfied: pyrsistent!=0.17.0,!=0.17.1,!=0.17.2,>=0.14.0 in /usr/local/lib/python3.8/dist-packages (from jsonschema>=3.0->altair>=3.2.0->streamlit) (0.19.2)\n",
            "Requirement already satisfied: attrs>=17.4.0 in /usr/local/lib/python3.8/dist-packages (from jsonschema>=3.0->altair>=3.2.0->streamlit) (22.1.0)\n",
            "Requirement already satisfied: importlib-resources>=1.4.0 in /usr/local/lib/python3.8/dist-packages (from jsonschema>=3.0->altair>=3.2.0->streamlit) (5.10.0)\n",
            "Requirement already satisfied: pyparsing!=3.0.5,>=2.0.2 in /usr/local/lib/python3.8/dist-packages (from packaging>=14.1->streamlit) (3.0.9)\n",
            "Requirement already satisfied: pytz>=2017.3 in /usr/local/lib/python3.8/dist-packages (from pandas>=0.21.0->streamlit) (2022.6)\n",
            "Requirement already satisfied: MarkupSafe>=0.23 in /usr/local/lib/python3.8/dist-packages (from jinja2->altair>=3.2.0->streamlit) (2.0.1)\n",
            "Requirement already satisfied: six>=1.5 in /usr/local/lib/python3.8/dist-packages (from python-dateutil->streamlit) (1.15.0)\n",
            "Requirement already satisfied: idna<3,>=2.5 in /usr/local/lib/python3.8/dist-packages (from requests>=2.4->streamlit) (2.10)\n",
            "Requirement already satisfied: chardet<4,>=3.0.2 in /usr/local/lib/python3.8/dist-packages (from requests>=2.4->streamlit) (3.0.4)\n",
            "Requirement already satisfied: certifi>=2017.4.17 in /usr/local/lib/python3.8/dist-packages (from requests>=2.4->streamlit) (2022.9.24)\n",
            "Requirement already satisfied: urllib3!=1.25.0,!=1.25.1,<1.26,>=1.21.1 in /usr/local/lib/python3.8/dist-packages (from requests>=2.4->streamlit) (1.24.3)\n",
            "Collecting commonmark<0.10.0,>=0.9.0\n",
            "  Downloading commonmark-0.9.1-py2.py3-none-any.whl (51 kB)\n",
            "\u001b[K     |████████████████████████████████| 51 kB 7.2 MB/s \n",
            "\u001b[?25hRequirement already satisfied: pygments<3.0.0,>=2.6.0 in /usr/local/lib/python3.8/dist-packages (from rich>=10.11.0->streamlit) (2.6.1)\n",
            "Requirement already satisfied: decorator>=3.4.0 in /usr/local/lib/python3.8/dist-packages (from validators>=0.2->streamlit) (4.4.2)\n",
            "Building wheels for collected packages: validators\n",
            "  Building wheel for validators (setup.py) ... \u001b[?25l\u001b[?25hdone\n",
            "  Created wheel for validators: filename=validators-0.20.0-py3-none-any.whl size=19581 sha256=cbf2d3c72d1bf8360f91d77c14da3a53586a18c77513e71180b40879fcf87607\n",
            "  Stored in directory: /root/.cache/pip/wheels/19/09/72/3eb74d236bb48bd0f3c6c3c83e4e0c5bbfcbcad7c6c3539db8\n",
            "Successfully built validators\n",
            "Installing collected packages: smmap, gitdb, commonmark, watchdog, validators, semver, rich, pympler, pydeck, gitpython, blinker, streamlit\n",
            "Successfully installed blinker-1.5 commonmark-0.9.1 gitdb-4.0.10 gitpython-3.1.29 pydeck-0.8.0 pympler-1.0.1 rich-12.6.0 semver-2.13.0 smmap-5.0.0 streamlit-1.15.2 validators-0.20.0 watchdog-2.1.9\n",
            "Looking in indexes: https://pypi.org/simple, https://us-python.pkg.dev/colab-wheels/public/simple/\n",
            "Requirement already satisfied: pandas in /usr/local/lib/python3.8/dist-packages (1.3.5)\n",
            "Requirement already satisfied: python-dateutil>=2.7.3 in /usr/local/lib/python3.8/dist-packages (from pandas) (2.8.2)\n",
            "Requirement already satisfied: pytz>=2017.3 in /usr/local/lib/python3.8/dist-packages (from pandas) (2022.6)\n",
            "Requirement already satisfied: numpy>=1.17.3 in /usr/local/lib/python3.8/dist-packages (from pandas) (1.21.6)\n",
            "Requirement already satisfied: six>=1.5 in /usr/local/lib/python3.8/dist-packages (from python-dateutil>=2.7.3->pandas) (1.15.0)\n",
            "Looking in indexes: https://pypi.org/simple, https://us-python.pkg.dev/colab-wheels/public/simple/\n",
            "Requirement already satisfied: matplotlib in /usr/local/lib/python3.8/dist-packages (3.2.2)\n",
            "Requirement already satisfied: pyparsing!=2.0.4,!=2.1.2,!=2.1.6,>=2.0.1 in /usr/local/lib/python3.8/dist-packages (from matplotlib) (3.0.9)\n",
            "Requirement already satisfied: cycler>=0.10 in /usr/local/lib/python3.8/dist-packages (from matplotlib) (0.11.0)\n",
            "Requirement already satisfied: numpy>=1.11 in /usr/local/lib/python3.8/dist-packages (from matplotlib) (1.21.6)\n",
            "Requirement already satisfied: python-dateutil>=2.1 in /usr/local/lib/python3.8/dist-packages (from matplotlib) (2.8.2)\n",
            "Requirement already satisfied: kiwisolver>=1.0.1 in /usr/local/lib/python3.8/dist-packages (from matplotlib) (1.4.4)\n",
            "Requirement already satisfied: six>=1.5 in /usr/local/lib/python3.8/dist-packages (from python-dateutil>=2.1->matplotlib) (1.15.0)\n",
            "Looking in indexes: https://pypi.org/simple, https://us-python.pkg.dev/colab-wheels/public/simple/\n",
            "Collecting sklearn\n",
            "  Downloading sklearn-0.0.post1.tar.gz (3.6 kB)\n",
            "Building wheels for collected packages: sklearn\n",
            "  Building wheel for sklearn (setup.py) ... \u001b[?25l\u001b[?25hdone\n",
            "  Created wheel for sklearn: filename=sklearn-0.0.post1-py3-none-any.whl size=2344 sha256=e3c0901d24e4df2abc86ad9443eaeb0a5382ac9251ea43618de9683c26a0fc53\n",
            "  Stored in directory: /root/.cache/pip/wheels/14/25/f7/1cc0956978ae479e75140219088deb7a36f60459df242b1a72\n",
            "Successfully built sklearn\n",
            "Installing collected packages: sklearn\n",
            "Successfully installed sklearn-0.0.post1\n",
            "Looking in indexes: https://pypi.org/simple, https://us-python.pkg.dev/colab-wheels/public/simple/\n",
            "Requirement already satisfied: seaborn in /usr/local/lib/python3.8/dist-packages (0.11.2)\n",
            "Requirement already satisfied: pandas>=0.23 in /usr/local/lib/python3.8/dist-packages (from seaborn) (1.3.5)\n",
            "Requirement already satisfied: scipy>=1.0 in /usr/local/lib/python3.8/dist-packages (from seaborn) (1.7.3)\n",
            "Requirement already satisfied: numpy>=1.15 in /usr/local/lib/python3.8/dist-packages (from seaborn) (1.21.6)\n",
            "Requirement already satisfied: matplotlib>=2.2 in /usr/local/lib/python3.8/dist-packages (from seaborn) (3.2.2)\n",
            "Requirement already satisfied: python-dateutil>=2.1 in /usr/local/lib/python3.8/dist-packages (from matplotlib>=2.2->seaborn) (2.8.2)\n",
            "Requirement already satisfied: kiwisolver>=1.0.1 in /usr/local/lib/python3.8/dist-packages (from matplotlib>=2.2->seaborn) (1.4.4)\n",
            "Requirement already satisfied: pyparsing!=2.0.4,!=2.1.2,!=2.1.6,>=2.0.1 in /usr/local/lib/python3.8/dist-packages (from matplotlib>=2.2->seaborn) (3.0.9)\n",
            "Requirement already satisfied: cycler>=0.10 in /usr/local/lib/python3.8/dist-packages (from matplotlib>=2.2->seaborn) (0.11.0)\n",
            "Requirement already satisfied: pytz>=2017.3 in /usr/local/lib/python3.8/dist-packages (from pandas>=0.23->seaborn) (2022.6)\n",
            "Requirement already satisfied: six>=1.5 in /usr/local/lib/python3.8/dist-packages (from python-dateutil>=2.1->matplotlib>=2.2->seaborn) (1.15.0)\n",
            "Looking in indexes: https://pypi.org/simple, https://us-python.pkg.dev/colab-wheels/public/simple/\n",
            "Requirement already satisfied: numpy in /usr/local/lib/python3.8/dist-packages (1.21.6)\n",
            "Looking in indexes: https://pypi.org/simple, https://us-python.pkg.dev/colab-wheels/public/simple/\n",
            "Collecting googletrans\n",
            "  Downloading googletrans-3.0.0.tar.gz (17 kB)\n",
            "Collecting httpx==0.13.3\n",
            "  Downloading httpx-0.13.3-py3-none-any.whl (55 kB)\n",
            "\u001b[K     |████████████████████████████████| 55 kB 2.0 MB/s \n",
            "\u001b[?25hCollecting sniffio\n",
            "  Downloading sniffio-1.3.0-py3-none-any.whl (10 kB)\n",
            "Collecting rfc3986<2,>=1.3\n",
            "  Downloading rfc3986-1.5.0-py2.py3-none-any.whl (31 kB)\n",
            "Requirement already satisfied: chardet==3.* in /usr/local/lib/python3.8/dist-packages (from httpx==0.13.3->googletrans) (3.0.4)\n",
            "Collecting hstspreload\n",
            "  Downloading hstspreload-2022.12.1-py3-none-any.whl (1.5 MB)\n",
            "\u001b[K     |████████████████████████████████| 1.5 MB 9.6 MB/s \n",
            "\u001b[?25hRequirement already satisfied: certifi in /usr/local/lib/python3.8/dist-packages (from httpx==0.13.3->googletrans) (2022.9.24)\n",
            "Requirement already satisfied: idna==2.* in /usr/local/lib/python3.8/dist-packages (from httpx==0.13.3->googletrans) (2.10)\n",
            "Collecting httpcore==0.9.*\n",
            "  Downloading httpcore-0.9.1-py3-none-any.whl (42 kB)\n",
            "\u001b[K     |████████████████████████████████| 42 kB 1.1 MB/s \n",
            "\u001b[?25hCollecting h11<0.10,>=0.8\n",
            "  Downloading h11-0.9.0-py2.py3-none-any.whl (53 kB)\n",
            "\u001b[K     |████████████████████████████████| 53 kB 1.5 MB/s \n",
            "\u001b[?25hCollecting h2==3.*\n",
            "  Downloading h2-3.2.0-py2.py3-none-any.whl (65 kB)\n",
            "\u001b[K     |████████████████████████████████| 65 kB 2.9 MB/s \n",
            "\u001b[?25hCollecting hpack<4,>=3.0\n",
            "  Downloading hpack-3.0.0-py2.py3-none-any.whl (38 kB)\n",
            "Collecting hyperframe<6,>=5.2.0\n",
            "  Downloading hyperframe-5.2.0-py2.py3-none-any.whl (12 kB)\n",
            "Building wheels for collected packages: googletrans\n",
            "  Building wheel for googletrans (setup.py) ... \u001b[?25l\u001b[?25hdone\n",
            "  Created wheel for googletrans: filename=googletrans-3.0.0-py3-none-any.whl size=15735 sha256=3961fecb9ac65a32ca624328d68485ef02592463ba90f336bb5e10c04317ff9c\n",
            "  Stored in directory: /root/.cache/pip/wheels/0e/ce/9b/d51de1064911d42480ab6b57fc943ee36572441f27546354e2\n",
            "Successfully built googletrans\n",
            "Installing collected packages: hyperframe, hpack, sniffio, h2, h11, rfc3986, httpcore, hstspreload, httpx, googletrans\n",
            "Successfully installed googletrans-3.0.0 h11-0.9.0 h2-3.2.0 hpack-3.0.0 hstspreload-2022.12.1 httpcore-0.9.1 httpx-0.13.3 hyperframe-5.2.0 rfc3986-1.5.0 sniffio-1.3.0\n"
          ]
        }
      ]
    },
    {
      "cell_type": "markdown",
      "source": [
        "# **IMPORT DAS BIBLIOTECAS**"
      ],
      "metadata": {
        "id": "GnHfh4_28jSE"
      }
    },
    {
      "cell_type": "code",
      "execution_count": null,
      "metadata": {
        "id": "xINmYUpRq1kj"
      },
      "outputs": [],
      "source": [
        "# IMPORT DE BIBLIOTECAS \n",
        "import numpy as np # \n",
        "import pandas as pd # processamento de dados, arquivo CSV (pd.read_csv)\n",
        "import seaborn as sns # visualização de gráficos \n",
        "import matplotlib.pyplot as plt #visualização de gráficos \n",
        "from google.colab import drive #configuração para buscar o arquivo na nuvem\n",
        "#Seaborn theme\n",
        "sns.set_theme(style=\"whitegrid\")"
      ]
    },
    {
      "cell_type": "code",
      "source": [
        "drive.mount('/content/gdrive')"
      ],
      "metadata": {
        "colab": {
          "base_uri": "https://localhost:8080/"
        },
        "id": "j_eKgyNIyEdO",
        "outputId": "f61641a6-342c-466e-bd4d-4be8c3476df7"
      },
      "execution_count": null,
      "outputs": [
        {
          "output_type": "stream",
          "name": "stdout",
          "text": [
            "Mounted at /content/gdrive\n"
          ]
        }
      ]
    },
    {
      "cell_type": "markdown",
      "source": [
        "# **Inicio para as Tratativas do arquivo** "
      ],
      "metadata": {
        "id": "wmpHywsPSVFw"
      }
    },
    {
      "cell_type": "code",
      "source": [
        "#Leitura do Arquivo CSV\n",
        "df_anime_total = pd.read_csv(\"/content/gdrive/MyDrive/Estatistica/mal_top2000_anime.csv\", index_col=0)\n",
        "df_anime_total.head()\n"
      ],
      "metadata": {
        "colab": {
          "base_uri": "https://localhost:8080/",
          "height": 207
        },
        "id": "e8vvZkQ2r2n5",
        "outputId": "867f96b5-5e5b-4891-fe84-2ce826a04c8e"
      },
      "execution_count": null,
      "outputs": [
        {
          "output_type": "execute_result",
          "data": {
            "text/plain": [
              "                                 Name Type  Score  Score Rank  \\\n",
              "0    Fullmetal Alchemist: Brotherhood   TV   9.14           1   \n",
              "1                        Spy x Family   TV   9.09           2   \n",
              "2  Shingeki no Kyojin Season 3 Part 2   TV   9.08           3   \n",
              "3                         Steins;Gate   TV   9.08           4   \n",
              "4                            Gintama°   TV   9.08           5   \n",
              "\n",
              "   Popularity Rank                     Air Date  \\\n",
              "0                3   Apr 5, 2009 to Jul 4, 2010   \n",
              "1              350             Apr 9, 2022 to ?   \n",
              "2               32  Apr 29, 2019 to Jul 1, 2019   \n",
              "3               13  Apr 6, 2011 to Sep 14, 2011   \n",
              "4              335  Apr 8, 2015 to Mar 30, 2016   \n",
              "\n",
              "                                      Studio  Num. of episodes  \\\n",
              "0                                  ['Bones']                64   \n",
              "1  ['Wit Studio', '            CloverWorks']                12   \n",
              "2                             ['Wit Studio']                10   \n",
              "3                              ['White Fox']                24   \n",
              "4                  ['Bandai Namco Pictures']                51   \n",
              "\n",
              "                                        Genres  \\\n",
              "0  ['Action', 'Adventure', 'Drama', 'Fantasy']   \n",
              "1                         ['Action', 'Comedy']   \n",
              "2                          ['Action', 'Drama']   \n",
              "3              ['Drama', 'Sci-Fi', 'Suspense']   \n",
              "4               ['Action', 'Comedy', 'Sci-Fi']   \n",
              "\n",
              "                                           Theme(s) Demographic  \n",
              "0                                      ['Military']     Shounen  \n",
              "1                                     ['Childcare']     Shounen  \n",
              "2                  ['Gore', 'Military', 'Survival']     Shounen  \n",
              "3                  ['Psychological', 'Time Travel']        None  \n",
              "4  ['Gag Humor', 'Historical', 'Parody', 'Samurai']     Shounen  "
            ],
            "text/html": [
              "\n",
              "  <div id=\"df-62c5b5dc-6940-4ed5-95fc-d0fab300a5d5\">\n",
              "    <div class=\"colab-df-container\">\n",
              "      <div>\n",
              "<style scoped>\n",
              "    .dataframe tbody tr th:only-of-type {\n",
              "        vertical-align: middle;\n",
              "    }\n",
              "\n",
              "    .dataframe tbody tr th {\n",
              "        vertical-align: top;\n",
              "    }\n",
              "\n",
              "    .dataframe thead th {\n",
              "        text-align: right;\n",
              "    }\n",
              "</style>\n",
              "<table border=\"1\" class=\"dataframe\">\n",
              "  <thead>\n",
              "    <tr style=\"text-align: right;\">\n",
              "      <th></th>\n",
              "      <th>Name</th>\n",
              "      <th>Type</th>\n",
              "      <th>Score</th>\n",
              "      <th>Score Rank</th>\n",
              "      <th>Popularity Rank</th>\n",
              "      <th>Air Date</th>\n",
              "      <th>Studio</th>\n",
              "      <th>Num. of episodes</th>\n",
              "      <th>Genres</th>\n",
              "      <th>Theme(s)</th>\n",
              "      <th>Demographic</th>\n",
              "    </tr>\n",
              "  </thead>\n",
              "  <tbody>\n",
              "    <tr>\n",
              "      <th>0</th>\n",
              "      <td>Fullmetal Alchemist: Brotherhood</td>\n",
              "      <td>TV</td>\n",
              "      <td>9.14</td>\n",
              "      <td>1</td>\n",
              "      <td>3</td>\n",
              "      <td>Apr 5, 2009 to Jul 4, 2010</td>\n",
              "      <td>['Bones']</td>\n",
              "      <td>64</td>\n",
              "      <td>['Action', 'Adventure', 'Drama', 'Fantasy']</td>\n",
              "      <td>['Military']</td>\n",
              "      <td>Shounen</td>\n",
              "    </tr>\n",
              "    <tr>\n",
              "      <th>1</th>\n",
              "      <td>Spy x Family</td>\n",
              "      <td>TV</td>\n",
              "      <td>9.09</td>\n",
              "      <td>2</td>\n",
              "      <td>350</td>\n",
              "      <td>Apr 9, 2022 to ?</td>\n",
              "      <td>['Wit Studio', '            CloverWorks']</td>\n",
              "      <td>12</td>\n",
              "      <td>['Action', 'Comedy']</td>\n",
              "      <td>['Childcare']</td>\n",
              "      <td>Shounen</td>\n",
              "    </tr>\n",
              "    <tr>\n",
              "      <th>2</th>\n",
              "      <td>Shingeki no Kyojin Season 3 Part 2</td>\n",
              "      <td>TV</td>\n",
              "      <td>9.08</td>\n",
              "      <td>3</td>\n",
              "      <td>32</td>\n",
              "      <td>Apr 29, 2019 to Jul 1, 2019</td>\n",
              "      <td>['Wit Studio']</td>\n",
              "      <td>10</td>\n",
              "      <td>['Action', 'Drama']</td>\n",
              "      <td>['Gore', 'Military', 'Survival']</td>\n",
              "      <td>Shounen</td>\n",
              "    </tr>\n",
              "    <tr>\n",
              "      <th>3</th>\n",
              "      <td>Steins;Gate</td>\n",
              "      <td>TV</td>\n",
              "      <td>9.08</td>\n",
              "      <td>4</td>\n",
              "      <td>13</td>\n",
              "      <td>Apr 6, 2011 to Sep 14, 2011</td>\n",
              "      <td>['White Fox']</td>\n",
              "      <td>24</td>\n",
              "      <td>['Drama', 'Sci-Fi', 'Suspense']</td>\n",
              "      <td>['Psychological', 'Time Travel']</td>\n",
              "      <td>None</td>\n",
              "    </tr>\n",
              "    <tr>\n",
              "      <th>4</th>\n",
              "      <td>Gintama°</td>\n",
              "      <td>TV</td>\n",
              "      <td>9.08</td>\n",
              "      <td>5</td>\n",
              "      <td>335</td>\n",
              "      <td>Apr 8, 2015 to Mar 30, 2016</td>\n",
              "      <td>['Bandai Namco Pictures']</td>\n",
              "      <td>51</td>\n",
              "      <td>['Action', 'Comedy', 'Sci-Fi']</td>\n",
              "      <td>['Gag Humor', 'Historical', 'Parody', 'Samurai']</td>\n",
              "      <td>Shounen</td>\n",
              "    </tr>\n",
              "  </tbody>\n",
              "</table>\n",
              "</div>\n",
              "      <button class=\"colab-df-convert\" onclick=\"convertToInteractive('df-62c5b5dc-6940-4ed5-95fc-d0fab300a5d5')\"\n",
              "              title=\"Convert this dataframe to an interactive table.\"\n",
              "              style=\"display:none;\">\n",
              "        \n",
              "  <svg xmlns=\"http://www.w3.org/2000/svg\" height=\"24px\"viewBox=\"0 0 24 24\"\n",
              "       width=\"24px\">\n",
              "    <path d=\"M0 0h24v24H0V0z\" fill=\"none\"/>\n",
              "    <path d=\"M18.56 5.44l.94 2.06.94-2.06 2.06-.94-2.06-.94-.94-2.06-.94 2.06-2.06.94zm-11 1L8.5 8.5l.94-2.06 2.06-.94-2.06-.94L8.5 2.5l-.94 2.06-2.06.94zm10 10l.94 2.06.94-2.06 2.06-.94-2.06-.94-.94-2.06-.94 2.06-2.06.94z\"/><path d=\"M17.41 7.96l-1.37-1.37c-.4-.4-.92-.59-1.43-.59-.52 0-1.04.2-1.43.59L10.3 9.45l-7.72 7.72c-.78.78-.78 2.05 0 2.83L4 21.41c.39.39.9.59 1.41.59.51 0 1.02-.2 1.41-.59l7.78-7.78 2.81-2.81c.8-.78.8-2.07 0-2.86zM5.41 20L4 18.59l7.72-7.72 1.47 1.35L5.41 20z\"/>\n",
              "  </svg>\n",
              "      </button>\n",
              "      \n",
              "  <style>\n",
              "    .colab-df-container {\n",
              "      display:flex;\n",
              "      flex-wrap:wrap;\n",
              "      gap: 12px;\n",
              "    }\n",
              "\n",
              "    .colab-df-convert {\n",
              "      background-color: #E8F0FE;\n",
              "      border: none;\n",
              "      border-radius: 50%;\n",
              "      cursor: pointer;\n",
              "      display: none;\n",
              "      fill: #1967D2;\n",
              "      height: 32px;\n",
              "      padding: 0 0 0 0;\n",
              "      width: 32px;\n",
              "    }\n",
              "\n",
              "    .colab-df-convert:hover {\n",
              "      background-color: #E2EBFA;\n",
              "      box-shadow: 0px 1px 2px rgba(60, 64, 67, 0.3), 0px 1px 3px 1px rgba(60, 64, 67, 0.15);\n",
              "      fill: #174EA6;\n",
              "    }\n",
              "\n",
              "    [theme=dark] .colab-df-convert {\n",
              "      background-color: #3B4455;\n",
              "      fill: #D2E3FC;\n",
              "    }\n",
              "\n",
              "    [theme=dark] .colab-df-convert:hover {\n",
              "      background-color: #434B5C;\n",
              "      box-shadow: 0px 1px 3px 1px rgba(0, 0, 0, 0.15);\n",
              "      filter: drop-shadow(0px 1px 2px rgba(0, 0, 0, 0.3));\n",
              "      fill: #FFFFFF;\n",
              "    }\n",
              "  </style>\n",
              "\n",
              "      <script>\n",
              "        const buttonEl =\n",
              "          document.querySelector('#df-62c5b5dc-6940-4ed5-95fc-d0fab300a5d5 button.colab-df-convert');\n",
              "        buttonEl.style.display =\n",
              "          google.colab.kernel.accessAllowed ? 'block' : 'none';\n",
              "\n",
              "        async function convertToInteractive(key) {\n",
              "          const element = document.querySelector('#df-62c5b5dc-6940-4ed5-95fc-d0fab300a5d5');\n",
              "          const dataTable =\n",
              "            await google.colab.kernel.invokeFunction('convertToInteractive',\n",
              "                                                     [key], {});\n",
              "          if (!dataTable) return;\n",
              "\n",
              "          const docLinkHtml = 'Like what you see? Visit the ' +\n",
              "            '<a target=\"_blank\" href=https://colab.research.google.com/notebooks/data_table.ipynb>data table notebook</a>'\n",
              "            + ' to learn more about interactive tables.';\n",
              "          element.innerHTML = '';\n",
              "          dataTable['output_type'] = 'display_data';\n",
              "          await google.colab.output.renderOutput(dataTable, element);\n",
              "          const docLink = document.createElement('div');\n",
              "          docLink.innerHTML = docLinkHtml;\n",
              "          element.appendChild(docLink);\n",
              "        }\n",
              "      </script>\n",
              "    </div>\n",
              "  </div>\n",
              "  "
            ]
          },
          "metadata": {},
          "execution_count": 65
        }
      ]
    },
    {
      "cell_type": "code",
      "source": [
        "#Quantidade de inputs e colunas\n",
        "df_anime_total.shape "
      ],
      "metadata": {
        "id": "wagtjefQlWU4",
        "colab": {
          "base_uri": "https://localhost:8080/"
        },
        "outputId": "0c3c0a7e-e155-4db5-c923-62bebc52e7ce"
      },
      "execution_count": null,
      "outputs": [
        {
          "output_type": "execute_result",
          "data": {
            "text/plain": [
              "(2000, 11)"
            ]
          },
          "metadata": {},
          "execution_count": 66
        }
      ]
    },
    {
      "cell_type": "code",
      "source": [
        "df_anime_total.info()"
      ],
      "metadata": {
        "id": "zNVC7yPrPBdi",
        "colab": {
          "base_uri": "https://localhost:8080/"
        },
        "outputId": "54bd855c-128e-478e-e3bf-7cd0980f8162"
      },
      "execution_count": null,
      "outputs": [
        {
          "output_type": "stream",
          "name": "stdout",
          "text": [
            "<class 'pandas.core.frame.DataFrame'>\n",
            "Int64Index: 2000 entries, 0 to 1999\n",
            "Data columns (total 11 columns):\n",
            " #   Column            Non-Null Count  Dtype  \n",
            "---  ------            --------------  -----  \n",
            " 0   Name              2000 non-null   object \n",
            " 1   Type              2000 non-null   object \n",
            " 2   Score             2000 non-null   float64\n",
            " 3   Score Rank        2000 non-null   int64  \n",
            " 4   Popularity Rank   2000 non-null   int64  \n",
            " 5   Air Date          2000 non-null   object \n",
            " 6   Studio            2000 non-null   object \n",
            " 7   Num. of episodes  2000 non-null   int64  \n",
            " 8   Genres            2000 non-null   object \n",
            " 9   Theme(s)          2000 non-null   object \n",
            " 10  Demographic       2000 non-null   object \n",
            "dtypes: float64(1), int64(3), object(7)\n",
            "memory usage: 187.5+ KB\n"
          ]
        }
      ]
    },
    {
      "cell_type": "code",
      "source": [
        "# Quais são os 100 Animes mais populares   \n",
        "df_anime_top100 = df_anime_total.sort_values(\"Popularity Rank\",).head(100)\n",
        "df_anime_top100"
      ],
      "metadata": {
        "id": "lo6W-4sD5PFG",
        "outputId": "e4a51548-e64f-4d53-fdb4-ebf3e14fc04e",
        "colab": {
          "base_uri": "https://localhost:8080/",
          "height": 642
        }
      },
      "execution_count": null,
      "outputs": [
        {
          "output_type": "execute_result",
          "data": {
            "text/plain": [
              "                                                   Name Type  Score  \\\n",
              "102                                  Shingeki no Kyojin   TV   8.53   \n",
              "69                                           Death Note   TV   8.63   \n",
              "0                      Fullmetal Alchemist: Brotherhood   TV   9.14   \n",
              "113                                       One Punch Man   TV   8.51   \n",
              "628                               Boku no Hero Academia   TV   7.95   \n",
              "...                                                 ...  ...    ...   \n",
              "576                    Kobayashi-san Chi no Maid Dragon   TV   8.00   \n",
              "1110                                 Enen no Shouboutai   TV   7.69   \n",
              "1156                                       Kuroshitsuji   TV   7.68   \n",
              "64    Kaguya-sama wa Kokurasetai? Tensai-tachi no Re...   TV   8.65   \n",
              "1337                                            Nisekoi   TV   7.60   \n",
              "\n",
              "      Score Rank  Popularity Rank                Studio  Num. of episodes  \\\n",
              "102          103                1        ['Wit Studio']                25   \n",
              "69            70                2          ['Madhouse']                37   \n",
              "0              1                3             ['Bones']                64   \n",
              "113          114                4          ['Madhouse']                12   \n",
              "628          629                6             ['Bones']                13   \n",
              "...          ...              ...                   ...               ...   \n",
              "576          577              104   ['Kyoto Animation']                13   \n",
              "1110        1111              105  ['David Production']                24   \n",
              "1156        1157              106      ['A-1 Pictures']                24   \n",
              "64            65              107      ['A-1 Pictures']                12   \n",
              "1337        1338              108             ['Shaft']                20   \n",
              "\n",
              "                                               Genres  \\\n",
              "102                               ['Action', 'Drama']   \n",
              "69                       ['Supernatural', 'Suspense']   \n",
              "0         ['Action', 'Adventure', 'Drama', 'Fantasy']   \n",
              "113                              ['Action', 'Comedy']   \n",
              "628                                        ['Action']   \n",
              "...                                               ...   \n",
              "576            ['Comedy', 'Fantasy', 'Slice of Life']   \n",
              "1110                       ['Action', 'Supernatural']   \n",
              "1156  ['Action', 'Comedy', 'Mystery', 'Supernatural']   \n",
              "64                                         ['Comedy']   \n",
              "1337                            ['Comedy', 'Romance']   \n",
              "\n",
              "                                             Theme(s) Demographic Start Date  \\\n",
              "102                  ['Gore', 'Military', 'Survival']     Shounen 2013-04-07   \n",
              "69                                  ['Psychological']     Shounen 2006-10-04   \n",
              "0                                        ['Military']     Shounen 2009-04-05   \n",
              "113                         ['Parody', 'Super Power']      Seinen 2015-10-05   \n",
              "628                         ['School', 'Super Power']     Shounen 2016-04-03   \n",
              "...                                               ...         ...        ...   \n",
              "576                                          ['None']        None 2017-01-12   \n",
              "1110                                         ['None']     Shounen 2019-07-06   \n",
              "1156                      ['Historical', 'Mythology']     Shounen 2008-10-03   \n",
              "64    ['Psychological', 'Romantic Subtext', 'School']      Seinen 2020-04-11   \n",
              "1337                              ['Harem', 'School']     Shounen 2014-01-11   \n",
              "\n",
              "          End Date  Year  \n",
              "102   Sep 29, 2013  2013  \n",
              "69    Jun 27, 2007  2006  \n",
              "0      Jul 4, 2010  2009  \n",
              "113   Dec 21, 2015  2015  \n",
              "628   Jun 26, 2016  2016  \n",
              "...            ...   ...  \n",
              "576    Apr 6, 2017  2017  \n",
              "1110  Dec 28, 2019  2019  \n",
              "1156  Mar 27, 2009  2008  \n",
              "64    Jun 27, 2020  2020  \n",
              "1337  May 24, 2014  2014  \n",
              "\n",
              "[100 rows x 13 columns]"
            ],
            "text/html": [
              "\n",
              "  <div id=\"df-d1b2c26c-2a1f-49a6-b94e-c8ab821863a9\">\n",
              "    <div class=\"colab-df-container\">\n",
              "      <div>\n",
              "<style scoped>\n",
              "    .dataframe tbody tr th:only-of-type {\n",
              "        vertical-align: middle;\n",
              "    }\n",
              "\n",
              "    .dataframe tbody tr th {\n",
              "        vertical-align: top;\n",
              "    }\n",
              "\n",
              "    .dataframe thead th {\n",
              "        text-align: right;\n",
              "    }\n",
              "</style>\n",
              "<table border=\"1\" class=\"dataframe\">\n",
              "  <thead>\n",
              "    <tr style=\"text-align: right;\">\n",
              "      <th></th>\n",
              "      <th>Name</th>\n",
              "      <th>Type</th>\n",
              "      <th>Score</th>\n",
              "      <th>Score Rank</th>\n",
              "      <th>Popularity Rank</th>\n",
              "      <th>Studio</th>\n",
              "      <th>Num. of episodes</th>\n",
              "      <th>Genres</th>\n",
              "      <th>Theme(s)</th>\n",
              "      <th>Demographic</th>\n",
              "      <th>Start Date</th>\n",
              "      <th>End Date</th>\n",
              "      <th>Year</th>\n",
              "    </tr>\n",
              "  </thead>\n",
              "  <tbody>\n",
              "    <tr>\n",
              "      <th>102</th>\n",
              "      <td>Shingeki no Kyojin</td>\n",
              "      <td>TV</td>\n",
              "      <td>8.53</td>\n",
              "      <td>103</td>\n",
              "      <td>1</td>\n",
              "      <td>['Wit Studio']</td>\n",
              "      <td>25</td>\n",
              "      <td>['Action', 'Drama']</td>\n",
              "      <td>['Gore', 'Military', 'Survival']</td>\n",
              "      <td>Shounen</td>\n",
              "      <td>2013-04-07</td>\n",
              "      <td>Sep 29, 2013</td>\n",
              "      <td>2013</td>\n",
              "    </tr>\n",
              "    <tr>\n",
              "      <th>69</th>\n",
              "      <td>Death Note</td>\n",
              "      <td>TV</td>\n",
              "      <td>8.63</td>\n",
              "      <td>70</td>\n",
              "      <td>2</td>\n",
              "      <td>['Madhouse']</td>\n",
              "      <td>37</td>\n",
              "      <td>['Supernatural', 'Suspense']</td>\n",
              "      <td>['Psychological']</td>\n",
              "      <td>Shounen</td>\n",
              "      <td>2006-10-04</td>\n",
              "      <td>Jun 27, 2007</td>\n",
              "      <td>2006</td>\n",
              "    </tr>\n",
              "    <tr>\n",
              "      <th>0</th>\n",
              "      <td>Fullmetal Alchemist: Brotherhood</td>\n",
              "      <td>TV</td>\n",
              "      <td>9.14</td>\n",
              "      <td>1</td>\n",
              "      <td>3</td>\n",
              "      <td>['Bones']</td>\n",
              "      <td>64</td>\n",
              "      <td>['Action', 'Adventure', 'Drama', 'Fantasy']</td>\n",
              "      <td>['Military']</td>\n",
              "      <td>Shounen</td>\n",
              "      <td>2009-04-05</td>\n",
              "      <td>Jul 4, 2010</td>\n",
              "      <td>2009</td>\n",
              "    </tr>\n",
              "    <tr>\n",
              "      <th>113</th>\n",
              "      <td>One Punch Man</td>\n",
              "      <td>TV</td>\n",
              "      <td>8.51</td>\n",
              "      <td>114</td>\n",
              "      <td>4</td>\n",
              "      <td>['Madhouse']</td>\n",
              "      <td>12</td>\n",
              "      <td>['Action', 'Comedy']</td>\n",
              "      <td>['Parody', 'Super Power']</td>\n",
              "      <td>Seinen</td>\n",
              "      <td>2015-10-05</td>\n",
              "      <td>Dec 21, 2015</td>\n",
              "      <td>2015</td>\n",
              "    </tr>\n",
              "    <tr>\n",
              "      <th>628</th>\n",
              "      <td>Boku no Hero Academia</td>\n",
              "      <td>TV</td>\n",
              "      <td>7.95</td>\n",
              "      <td>629</td>\n",
              "      <td>6</td>\n",
              "      <td>['Bones']</td>\n",
              "      <td>13</td>\n",
              "      <td>['Action']</td>\n",
              "      <td>['School', 'Super Power']</td>\n",
              "      <td>Shounen</td>\n",
              "      <td>2016-04-03</td>\n",
              "      <td>Jun 26, 2016</td>\n",
              "      <td>2016</td>\n",
              "    </tr>\n",
              "    <tr>\n",
              "      <th>...</th>\n",
              "      <td>...</td>\n",
              "      <td>...</td>\n",
              "      <td>...</td>\n",
              "      <td>...</td>\n",
              "      <td>...</td>\n",
              "      <td>...</td>\n",
              "      <td>...</td>\n",
              "      <td>...</td>\n",
              "      <td>...</td>\n",
              "      <td>...</td>\n",
              "      <td>...</td>\n",
              "      <td>...</td>\n",
              "      <td>...</td>\n",
              "    </tr>\n",
              "    <tr>\n",
              "      <th>576</th>\n",
              "      <td>Kobayashi-san Chi no Maid Dragon</td>\n",
              "      <td>TV</td>\n",
              "      <td>8.00</td>\n",
              "      <td>577</td>\n",
              "      <td>104</td>\n",
              "      <td>['Kyoto Animation']</td>\n",
              "      <td>13</td>\n",
              "      <td>['Comedy', 'Fantasy', 'Slice of Life']</td>\n",
              "      <td>['None']</td>\n",
              "      <td>None</td>\n",
              "      <td>2017-01-12</td>\n",
              "      <td>Apr 6, 2017</td>\n",
              "      <td>2017</td>\n",
              "    </tr>\n",
              "    <tr>\n",
              "      <th>1110</th>\n",
              "      <td>Enen no Shouboutai</td>\n",
              "      <td>TV</td>\n",
              "      <td>7.69</td>\n",
              "      <td>1111</td>\n",
              "      <td>105</td>\n",
              "      <td>['David Production']</td>\n",
              "      <td>24</td>\n",
              "      <td>['Action', 'Supernatural']</td>\n",
              "      <td>['None']</td>\n",
              "      <td>Shounen</td>\n",
              "      <td>2019-07-06</td>\n",
              "      <td>Dec 28, 2019</td>\n",
              "      <td>2019</td>\n",
              "    </tr>\n",
              "    <tr>\n",
              "      <th>1156</th>\n",
              "      <td>Kuroshitsuji</td>\n",
              "      <td>TV</td>\n",
              "      <td>7.68</td>\n",
              "      <td>1157</td>\n",
              "      <td>106</td>\n",
              "      <td>['A-1 Pictures']</td>\n",
              "      <td>24</td>\n",
              "      <td>['Action', 'Comedy', 'Mystery', 'Supernatural']</td>\n",
              "      <td>['Historical', 'Mythology']</td>\n",
              "      <td>Shounen</td>\n",
              "      <td>2008-10-03</td>\n",
              "      <td>Mar 27, 2009</td>\n",
              "      <td>2008</td>\n",
              "    </tr>\n",
              "    <tr>\n",
              "      <th>64</th>\n",
              "      <td>Kaguya-sama wa Kokurasetai? Tensai-tachi no Re...</td>\n",
              "      <td>TV</td>\n",
              "      <td>8.65</td>\n",
              "      <td>65</td>\n",
              "      <td>107</td>\n",
              "      <td>['A-1 Pictures']</td>\n",
              "      <td>12</td>\n",
              "      <td>['Comedy']</td>\n",
              "      <td>['Psychological', 'Romantic Subtext', 'School']</td>\n",
              "      <td>Seinen</td>\n",
              "      <td>2020-04-11</td>\n",
              "      <td>Jun 27, 2020</td>\n",
              "      <td>2020</td>\n",
              "    </tr>\n",
              "    <tr>\n",
              "      <th>1337</th>\n",
              "      <td>Nisekoi</td>\n",
              "      <td>TV</td>\n",
              "      <td>7.60</td>\n",
              "      <td>1338</td>\n",
              "      <td>108</td>\n",
              "      <td>['Shaft']</td>\n",
              "      <td>20</td>\n",
              "      <td>['Comedy', 'Romance']</td>\n",
              "      <td>['Harem', 'School']</td>\n",
              "      <td>Shounen</td>\n",
              "      <td>2014-01-11</td>\n",
              "      <td>May 24, 2014</td>\n",
              "      <td>2014</td>\n",
              "    </tr>\n",
              "  </tbody>\n",
              "</table>\n",
              "<p>100 rows × 13 columns</p>\n",
              "</div>\n",
              "      <button class=\"colab-df-convert\" onclick=\"convertToInteractive('df-d1b2c26c-2a1f-49a6-b94e-c8ab821863a9')\"\n",
              "              title=\"Convert this dataframe to an interactive table.\"\n",
              "              style=\"display:none;\">\n",
              "        \n",
              "  <svg xmlns=\"http://www.w3.org/2000/svg\" height=\"24px\"viewBox=\"0 0 24 24\"\n",
              "       width=\"24px\">\n",
              "    <path d=\"M0 0h24v24H0V0z\" fill=\"none\"/>\n",
              "    <path d=\"M18.56 5.44l.94 2.06.94-2.06 2.06-.94-2.06-.94-.94-2.06-.94 2.06-2.06.94zm-11 1L8.5 8.5l.94-2.06 2.06-.94-2.06-.94L8.5 2.5l-.94 2.06-2.06.94zm10 10l.94 2.06.94-2.06 2.06-.94-2.06-.94-.94-2.06-.94 2.06-2.06.94z\"/><path d=\"M17.41 7.96l-1.37-1.37c-.4-.4-.92-.59-1.43-.59-.52 0-1.04.2-1.43.59L10.3 9.45l-7.72 7.72c-.78.78-.78 2.05 0 2.83L4 21.41c.39.39.9.59 1.41.59.51 0 1.02-.2 1.41-.59l7.78-7.78 2.81-2.81c.8-.78.8-2.07 0-2.86zM5.41 20L4 18.59l7.72-7.72 1.47 1.35L5.41 20z\"/>\n",
              "  </svg>\n",
              "      </button>\n",
              "      \n",
              "  <style>\n",
              "    .colab-df-container {\n",
              "      display:flex;\n",
              "      flex-wrap:wrap;\n",
              "      gap: 12px;\n",
              "    }\n",
              "\n",
              "    .colab-df-convert {\n",
              "      background-color: #E8F0FE;\n",
              "      border: none;\n",
              "      border-radius: 50%;\n",
              "      cursor: pointer;\n",
              "      display: none;\n",
              "      fill: #1967D2;\n",
              "      height: 32px;\n",
              "      padding: 0 0 0 0;\n",
              "      width: 32px;\n",
              "    }\n",
              "\n",
              "    .colab-df-convert:hover {\n",
              "      background-color: #E2EBFA;\n",
              "      box-shadow: 0px 1px 2px rgba(60, 64, 67, 0.3), 0px 1px 3px 1px rgba(60, 64, 67, 0.15);\n",
              "      fill: #174EA6;\n",
              "    }\n",
              "\n",
              "    [theme=dark] .colab-df-convert {\n",
              "      background-color: #3B4455;\n",
              "      fill: #D2E3FC;\n",
              "    }\n",
              "\n",
              "    [theme=dark] .colab-df-convert:hover {\n",
              "      background-color: #434B5C;\n",
              "      box-shadow: 0px 1px 3px 1px rgba(0, 0, 0, 0.15);\n",
              "      filter: drop-shadow(0px 1px 2px rgba(0, 0, 0, 0.3));\n",
              "      fill: #FFFFFF;\n",
              "    }\n",
              "  </style>\n",
              "\n",
              "      <script>\n",
              "        const buttonEl =\n",
              "          document.querySelector('#df-d1b2c26c-2a1f-49a6-b94e-c8ab821863a9 button.colab-df-convert');\n",
              "        buttonEl.style.display =\n",
              "          google.colab.kernel.accessAllowed ? 'block' : 'none';\n",
              "\n",
              "        async function convertToInteractive(key) {\n",
              "          const element = document.querySelector('#df-d1b2c26c-2a1f-49a6-b94e-c8ab821863a9');\n",
              "          const dataTable =\n",
              "            await google.colab.kernel.invokeFunction('convertToInteractive',\n",
              "                                                     [key], {});\n",
              "          if (!dataTable) return;\n",
              "\n",
              "          const docLinkHtml = 'Like what you see? Visit the ' +\n",
              "            '<a target=\"_blank\" href=https://colab.research.google.com/notebooks/data_table.ipynb>data table notebook</a>'\n",
              "            + ' to learn more about interactive tables.';\n",
              "          element.innerHTML = '';\n",
              "          dataTable['output_type'] = 'display_data';\n",
              "          await google.colab.output.renderOutput(dataTable, element);\n",
              "          const docLink = document.createElement('div');\n",
              "          docLink.innerHTML = docLinkHtml;\n",
              "          element.appendChild(docLink);\n",
              "        }\n",
              "      </script>\n",
              "    </div>\n",
              "  </div>\n",
              "  "
            ]
          },
          "metadata": {},
          "execution_count": 116
        }
      ]
    },
    {
      "cell_type": "code",
      "source": [
        "\n",
        "#Quebrar a coluna  the Air Date entre Inicio e fim (da exibição do anime )\n",
        "AnoExibicao = df_anime_total[\"Air Date\"].str.split(\" to \")\n",
        "df_anime_total[\"Start Date\"] = AnoExibicao.apply(lambda x : x[0])\n",
        "df_anime_total[\"End Date\"] = AnoExibicao.apply(lambda x : x[1] if len(x) > 1 else None)\n",
        "#Apagar a coluna Air Date\n",
        "df_anime_total.drop(\"Air Date\", axis=1, inplace = True)\n",
        "#Transformar'Start Date' into date column\n",
        "df_anime_total[\"Start Date\"] = pd.to_datetime(df_anime_total[\"Start Date\"])\n",
        "#Adicionar coluna Ano\n",
        "df_anime_total[\"Year\"] = df_anime_total[\"Start Date\"].dt.year\n",
        "#retorno de resultados \n",
        "df_anime_total.head()"
      ],
      "metadata": {
        "id": "xpeNl3HrO-XQ",
        "colab": {
          "base_uri": "https://localhost:8080/",
          "height": 251
        },
        "outputId": "363e5f65-8bba-40d1-8551-1c6ff40ac8f2"
      },
      "execution_count": null,
      "outputs": [
        {
          "output_type": "execute_result",
          "data": {
            "text/plain": [
              "                                 Name Type  Score  Score Rank  \\\n",
              "0    Fullmetal Alchemist: Brotherhood   TV   9.14           1   \n",
              "1                        Spy x Family   TV   9.09           2   \n",
              "2  Shingeki no Kyojin Season 3 Part 2   TV   9.08           3   \n",
              "3                         Steins;Gate   TV   9.08           4   \n",
              "4                            Gintama°   TV   9.08           5   \n",
              "\n",
              "   Popularity Rank                                     Studio  \\\n",
              "0                3                                  ['Bones']   \n",
              "1              350  ['Wit Studio', '            CloverWorks']   \n",
              "2               32                             ['Wit Studio']   \n",
              "3               13                              ['White Fox']   \n",
              "4              335                  ['Bandai Namco Pictures']   \n",
              "\n",
              "   Num. of episodes                                       Genres  \\\n",
              "0                64  ['Action', 'Adventure', 'Drama', 'Fantasy']   \n",
              "1                12                         ['Action', 'Comedy']   \n",
              "2                10                          ['Action', 'Drama']   \n",
              "3                24              ['Drama', 'Sci-Fi', 'Suspense']   \n",
              "4                51               ['Action', 'Comedy', 'Sci-Fi']   \n",
              "\n",
              "                                           Theme(s) Demographic Start Date  \\\n",
              "0                                      ['Military']     Shounen 2009-04-05   \n",
              "1                                     ['Childcare']     Shounen 2022-04-09   \n",
              "2                  ['Gore', 'Military', 'Survival']     Shounen 2019-04-29   \n",
              "3                  ['Psychological', 'Time Travel']        None 2011-04-06   \n",
              "4  ['Gag Humor', 'Historical', 'Parody', 'Samurai']     Shounen 2015-04-08   \n",
              "\n",
              "       End Date  Year  \n",
              "0   Jul 4, 2010  2009  \n",
              "1             ?  2022  \n",
              "2   Jul 1, 2019  2019  \n",
              "3  Sep 14, 2011  2011  \n",
              "4  Mar 30, 2016  2015  "
            ],
            "text/html": [
              "\n",
              "  <div id=\"df-6b85351d-b8a3-4ab3-abc1-8571371055a3\">\n",
              "    <div class=\"colab-df-container\">\n",
              "      <div>\n",
              "<style scoped>\n",
              "    .dataframe tbody tr th:only-of-type {\n",
              "        vertical-align: middle;\n",
              "    }\n",
              "\n",
              "    .dataframe tbody tr th {\n",
              "        vertical-align: top;\n",
              "    }\n",
              "\n",
              "    .dataframe thead th {\n",
              "        text-align: right;\n",
              "    }\n",
              "</style>\n",
              "<table border=\"1\" class=\"dataframe\">\n",
              "  <thead>\n",
              "    <tr style=\"text-align: right;\">\n",
              "      <th></th>\n",
              "      <th>Name</th>\n",
              "      <th>Type</th>\n",
              "      <th>Score</th>\n",
              "      <th>Score Rank</th>\n",
              "      <th>Popularity Rank</th>\n",
              "      <th>Studio</th>\n",
              "      <th>Num. of episodes</th>\n",
              "      <th>Genres</th>\n",
              "      <th>Theme(s)</th>\n",
              "      <th>Demographic</th>\n",
              "      <th>Start Date</th>\n",
              "      <th>End Date</th>\n",
              "      <th>Year</th>\n",
              "    </tr>\n",
              "  </thead>\n",
              "  <tbody>\n",
              "    <tr>\n",
              "      <th>0</th>\n",
              "      <td>Fullmetal Alchemist: Brotherhood</td>\n",
              "      <td>TV</td>\n",
              "      <td>9.14</td>\n",
              "      <td>1</td>\n",
              "      <td>3</td>\n",
              "      <td>['Bones']</td>\n",
              "      <td>64</td>\n",
              "      <td>['Action', 'Adventure', 'Drama', 'Fantasy']</td>\n",
              "      <td>['Military']</td>\n",
              "      <td>Shounen</td>\n",
              "      <td>2009-04-05</td>\n",
              "      <td>Jul 4, 2010</td>\n",
              "      <td>2009</td>\n",
              "    </tr>\n",
              "    <tr>\n",
              "      <th>1</th>\n",
              "      <td>Spy x Family</td>\n",
              "      <td>TV</td>\n",
              "      <td>9.09</td>\n",
              "      <td>2</td>\n",
              "      <td>350</td>\n",
              "      <td>['Wit Studio', '            CloverWorks']</td>\n",
              "      <td>12</td>\n",
              "      <td>['Action', 'Comedy']</td>\n",
              "      <td>['Childcare']</td>\n",
              "      <td>Shounen</td>\n",
              "      <td>2022-04-09</td>\n",
              "      <td>?</td>\n",
              "      <td>2022</td>\n",
              "    </tr>\n",
              "    <tr>\n",
              "      <th>2</th>\n",
              "      <td>Shingeki no Kyojin Season 3 Part 2</td>\n",
              "      <td>TV</td>\n",
              "      <td>9.08</td>\n",
              "      <td>3</td>\n",
              "      <td>32</td>\n",
              "      <td>['Wit Studio']</td>\n",
              "      <td>10</td>\n",
              "      <td>['Action', 'Drama']</td>\n",
              "      <td>['Gore', 'Military', 'Survival']</td>\n",
              "      <td>Shounen</td>\n",
              "      <td>2019-04-29</td>\n",
              "      <td>Jul 1, 2019</td>\n",
              "      <td>2019</td>\n",
              "    </tr>\n",
              "    <tr>\n",
              "      <th>3</th>\n",
              "      <td>Steins;Gate</td>\n",
              "      <td>TV</td>\n",
              "      <td>9.08</td>\n",
              "      <td>4</td>\n",
              "      <td>13</td>\n",
              "      <td>['White Fox']</td>\n",
              "      <td>24</td>\n",
              "      <td>['Drama', 'Sci-Fi', 'Suspense']</td>\n",
              "      <td>['Psychological', 'Time Travel']</td>\n",
              "      <td>None</td>\n",
              "      <td>2011-04-06</td>\n",
              "      <td>Sep 14, 2011</td>\n",
              "      <td>2011</td>\n",
              "    </tr>\n",
              "    <tr>\n",
              "      <th>4</th>\n",
              "      <td>Gintama°</td>\n",
              "      <td>TV</td>\n",
              "      <td>9.08</td>\n",
              "      <td>5</td>\n",
              "      <td>335</td>\n",
              "      <td>['Bandai Namco Pictures']</td>\n",
              "      <td>51</td>\n",
              "      <td>['Action', 'Comedy', 'Sci-Fi']</td>\n",
              "      <td>['Gag Humor', 'Historical', 'Parody', 'Samurai']</td>\n",
              "      <td>Shounen</td>\n",
              "      <td>2015-04-08</td>\n",
              "      <td>Mar 30, 2016</td>\n",
              "      <td>2015</td>\n",
              "    </tr>\n",
              "  </tbody>\n",
              "</table>\n",
              "</div>\n",
              "      <button class=\"colab-df-convert\" onclick=\"convertToInteractive('df-6b85351d-b8a3-4ab3-abc1-8571371055a3')\"\n",
              "              title=\"Convert this dataframe to an interactive table.\"\n",
              "              style=\"display:none;\">\n",
              "        \n",
              "  <svg xmlns=\"http://www.w3.org/2000/svg\" height=\"24px\"viewBox=\"0 0 24 24\"\n",
              "       width=\"24px\">\n",
              "    <path d=\"M0 0h24v24H0V0z\" fill=\"none\"/>\n",
              "    <path d=\"M18.56 5.44l.94 2.06.94-2.06 2.06-.94-2.06-.94-.94-2.06-.94 2.06-2.06.94zm-11 1L8.5 8.5l.94-2.06 2.06-.94-2.06-.94L8.5 2.5l-.94 2.06-2.06.94zm10 10l.94 2.06.94-2.06 2.06-.94-2.06-.94-.94-2.06-.94 2.06-2.06.94z\"/><path d=\"M17.41 7.96l-1.37-1.37c-.4-.4-.92-.59-1.43-.59-.52 0-1.04.2-1.43.59L10.3 9.45l-7.72 7.72c-.78.78-.78 2.05 0 2.83L4 21.41c.39.39.9.59 1.41.59.51 0 1.02-.2 1.41-.59l7.78-7.78 2.81-2.81c.8-.78.8-2.07 0-2.86zM5.41 20L4 18.59l7.72-7.72 1.47 1.35L5.41 20z\"/>\n",
              "  </svg>\n",
              "      </button>\n",
              "      \n",
              "  <style>\n",
              "    .colab-df-container {\n",
              "      display:flex;\n",
              "      flex-wrap:wrap;\n",
              "      gap: 12px;\n",
              "    }\n",
              "\n",
              "    .colab-df-convert {\n",
              "      background-color: #E8F0FE;\n",
              "      border: none;\n",
              "      border-radius: 50%;\n",
              "      cursor: pointer;\n",
              "      display: none;\n",
              "      fill: #1967D2;\n",
              "      height: 32px;\n",
              "      padding: 0 0 0 0;\n",
              "      width: 32px;\n",
              "    }\n",
              "\n",
              "    .colab-df-convert:hover {\n",
              "      background-color: #E2EBFA;\n",
              "      box-shadow: 0px 1px 2px rgba(60, 64, 67, 0.3), 0px 1px 3px 1px rgba(60, 64, 67, 0.15);\n",
              "      fill: #174EA6;\n",
              "    }\n",
              "\n",
              "    [theme=dark] .colab-df-convert {\n",
              "      background-color: #3B4455;\n",
              "      fill: #D2E3FC;\n",
              "    }\n",
              "\n",
              "    [theme=dark] .colab-df-convert:hover {\n",
              "      background-color: #434B5C;\n",
              "      box-shadow: 0px 1px 3px 1px rgba(0, 0, 0, 0.15);\n",
              "      filter: drop-shadow(0px 1px 2px rgba(0, 0, 0, 0.3));\n",
              "      fill: #FFFFFF;\n",
              "    }\n",
              "  </style>\n",
              "\n",
              "      <script>\n",
              "        const buttonEl =\n",
              "          document.querySelector('#df-6b85351d-b8a3-4ab3-abc1-8571371055a3 button.colab-df-convert');\n",
              "        buttonEl.style.display =\n",
              "          google.colab.kernel.accessAllowed ? 'block' : 'none';\n",
              "\n",
              "        async function convertToInteractive(key) {\n",
              "          const element = document.querySelector('#df-6b85351d-b8a3-4ab3-abc1-8571371055a3');\n",
              "          const dataTable =\n",
              "            await google.colab.kernel.invokeFunction('convertToInteractive',\n",
              "                                                     [key], {});\n",
              "          if (!dataTable) return;\n",
              "\n",
              "          const docLinkHtml = 'Like what you see? Visit the ' +\n",
              "            '<a target=\"_blank\" href=https://colab.research.google.com/notebooks/data_table.ipynb>data table notebook</a>'\n",
              "            + ' to learn more about interactive tables.';\n",
              "          element.innerHTML = '';\n",
              "          dataTable['output_type'] = 'display_data';\n",
              "          await google.colab.output.renderOutput(dataTable, element);\n",
              "          const docLink = document.createElement('div');\n",
              "          docLink.innerHTML = docLinkHtml;\n",
              "          element.appendChild(docLink);\n",
              "        }\n",
              "      </script>\n",
              "    </div>\n",
              "  </div>\n",
              "  "
            ]
          },
          "metadata": {},
          "execution_count": 69
        }
      ]
    },
    {
      "cell_type": "code",
      "source": [
        "#Informações do Data Frame anime\n",
        "df_anime_total.head()"
      ],
      "metadata": {
        "id": "TGf7KXcOJLwY",
        "colab": {
          "base_uri": "https://localhost:8080/",
          "height": 251
        },
        "outputId": "9a8bc17d-754e-4946-e9de-72ca8534a1b4"
      },
      "execution_count": null,
      "outputs": [
        {
          "output_type": "execute_result",
          "data": {
            "text/plain": [
              "                                 Name Type  Score  Score Rank  \\\n",
              "0    Fullmetal Alchemist: Brotherhood   TV   9.14           1   \n",
              "1                        Spy x Family   TV   9.09           2   \n",
              "2  Shingeki no Kyojin Season 3 Part 2   TV   9.08           3   \n",
              "3                         Steins;Gate   TV   9.08           4   \n",
              "4                            Gintama°   TV   9.08           5   \n",
              "\n",
              "   Popularity Rank                                     Studio  \\\n",
              "0                3                                  ['Bones']   \n",
              "1              350  ['Wit Studio', '            CloverWorks']   \n",
              "2               32                             ['Wit Studio']   \n",
              "3               13                              ['White Fox']   \n",
              "4              335                  ['Bandai Namco Pictures']   \n",
              "\n",
              "   Num. of episodes                                       Genres  \\\n",
              "0                64  ['Action', 'Adventure', 'Drama', 'Fantasy']   \n",
              "1                12                         ['Action', 'Comedy']   \n",
              "2                10                          ['Action', 'Drama']   \n",
              "3                24              ['Drama', 'Sci-Fi', 'Suspense']   \n",
              "4                51               ['Action', 'Comedy', 'Sci-Fi']   \n",
              "\n",
              "                                           Theme(s) Demographic Start Date  \\\n",
              "0                                      ['Military']     Shounen 2009-04-05   \n",
              "1                                     ['Childcare']     Shounen 2022-04-09   \n",
              "2                  ['Gore', 'Military', 'Survival']     Shounen 2019-04-29   \n",
              "3                  ['Psychological', 'Time Travel']        None 2011-04-06   \n",
              "4  ['Gag Humor', 'Historical', 'Parody', 'Samurai']     Shounen 2015-04-08   \n",
              "\n",
              "       End Date  Year  \n",
              "0   Jul 4, 2010  2009  \n",
              "1             ?  2022  \n",
              "2   Jul 1, 2019  2019  \n",
              "3  Sep 14, 2011  2011  \n",
              "4  Mar 30, 2016  2015  "
            ],
            "text/html": [
              "\n",
              "  <div id=\"df-f5b47196-7ac4-4a8d-a143-9124f19d32cf\">\n",
              "    <div class=\"colab-df-container\">\n",
              "      <div>\n",
              "<style scoped>\n",
              "    .dataframe tbody tr th:only-of-type {\n",
              "        vertical-align: middle;\n",
              "    }\n",
              "\n",
              "    .dataframe tbody tr th {\n",
              "        vertical-align: top;\n",
              "    }\n",
              "\n",
              "    .dataframe thead th {\n",
              "        text-align: right;\n",
              "    }\n",
              "</style>\n",
              "<table border=\"1\" class=\"dataframe\">\n",
              "  <thead>\n",
              "    <tr style=\"text-align: right;\">\n",
              "      <th></th>\n",
              "      <th>Name</th>\n",
              "      <th>Type</th>\n",
              "      <th>Score</th>\n",
              "      <th>Score Rank</th>\n",
              "      <th>Popularity Rank</th>\n",
              "      <th>Studio</th>\n",
              "      <th>Num. of episodes</th>\n",
              "      <th>Genres</th>\n",
              "      <th>Theme(s)</th>\n",
              "      <th>Demographic</th>\n",
              "      <th>Start Date</th>\n",
              "      <th>End Date</th>\n",
              "      <th>Year</th>\n",
              "    </tr>\n",
              "  </thead>\n",
              "  <tbody>\n",
              "    <tr>\n",
              "      <th>0</th>\n",
              "      <td>Fullmetal Alchemist: Brotherhood</td>\n",
              "      <td>TV</td>\n",
              "      <td>9.14</td>\n",
              "      <td>1</td>\n",
              "      <td>3</td>\n",
              "      <td>['Bones']</td>\n",
              "      <td>64</td>\n",
              "      <td>['Action', 'Adventure', 'Drama', 'Fantasy']</td>\n",
              "      <td>['Military']</td>\n",
              "      <td>Shounen</td>\n",
              "      <td>2009-04-05</td>\n",
              "      <td>Jul 4, 2010</td>\n",
              "      <td>2009</td>\n",
              "    </tr>\n",
              "    <tr>\n",
              "      <th>1</th>\n",
              "      <td>Spy x Family</td>\n",
              "      <td>TV</td>\n",
              "      <td>9.09</td>\n",
              "      <td>2</td>\n",
              "      <td>350</td>\n",
              "      <td>['Wit Studio', '            CloverWorks']</td>\n",
              "      <td>12</td>\n",
              "      <td>['Action', 'Comedy']</td>\n",
              "      <td>['Childcare']</td>\n",
              "      <td>Shounen</td>\n",
              "      <td>2022-04-09</td>\n",
              "      <td>?</td>\n",
              "      <td>2022</td>\n",
              "    </tr>\n",
              "    <tr>\n",
              "      <th>2</th>\n",
              "      <td>Shingeki no Kyojin Season 3 Part 2</td>\n",
              "      <td>TV</td>\n",
              "      <td>9.08</td>\n",
              "      <td>3</td>\n",
              "      <td>32</td>\n",
              "      <td>['Wit Studio']</td>\n",
              "      <td>10</td>\n",
              "      <td>['Action', 'Drama']</td>\n",
              "      <td>['Gore', 'Military', 'Survival']</td>\n",
              "      <td>Shounen</td>\n",
              "      <td>2019-04-29</td>\n",
              "      <td>Jul 1, 2019</td>\n",
              "      <td>2019</td>\n",
              "    </tr>\n",
              "    <tr>\n",
              "      <th>3</th>\n",
              "      <td>Steins;Gate</td>\n",
              "      <td>TV</td>\n",
              "      <td>9.08</td>\n",
              "      <td>4</td>\n",
              "      <td>13</td>\n",
              "      <td>['White Fox']</td>\n",
              "      <td>24</td>\n",
              "      <td>['Drama', 'Sci-Fi', 'Suspense']</td>\n",
              "      <td>['Psychological', 'Time Travel']</td>\n",
              "      <td>None</td>\n",
              "      <td>2011-04-06</td>\n",
              "      <td>Sep 14, 2011</td>\n",
              "      <td>2011</td>\n",
              "    </tr>\n",
              "    <tr>\n",
              "      <th>4</th>\n",
              "      <td>Gintama°</td>\n",
              "      <td>TV</td>\n",
              "      <td>9.08</td>\n",
              "      <td>5</td>\n",
              "      <td>335</td>\n",
              "      <td>['Bandai Namco Pictures']</td>\n",
              "      <td>51</td>\n",
              "      <td>['Action', 'Comedy', 'Sci-Fi']</td>\n",
              "      <td>['Gag Humor', 'Historical', 'Parody', 'Samurai']</td>\n",
              "      <td>Shounen</td>\n",
              "      <td>2015-04-08</td>\n",
              "      <td>Mar 30, 2016</td>\n",
              "      <td>2015</td>\n",
              "    </tr>\n",
              "  </tbody>\n",
              "</table>\n",
              "</div>\n",
              "      <button class=\"colab-df-convert\" onclick=\"convertToInteractive('df-f5b47196-7ac4-4a8d-a143-9124f19d32cf')\"\n",
              "              title=\"Convert this dataframe to an interactive table.\"\n",
              "              style=\"display:none;\">\n",
              "        \n",
              "  <svg xmlns=\"http://www.w3.org/2000/svg\" height=\"24px\"viewBox=\"0 0 24 24\"\n",
              "       width=\"24px\">\n",
              "    <path d=\"M0 0h24v24H0V0z\" fill=\"none\"/>\n",
              "    <path d=\"M18.56 5.44l.94 2.06.94-2.06 2.06-.94-2.06-.94-.94-2.06-.94 2.06-2.06.94zm-11 1L8.5 8.5l.94-2.06 2.06-.94-2.06-.94L8.5 2.5l-.94 2.06-2.06.94zm10 10l.94 2.06.94-2.06 2.06-.94-2.06-.94-.94-2.06-.94 2.06-2.06.94z\"/><path d=\"M17.41 7.96l-1.37-1.37c-.4-.4-.92-.59-1.43-.59-.52 0-1.04.2-1.43.59L10.3 9.45l-7.72 7.72c-.78.78-.78 2.05 0 2.83L4 21.41c.39.39.9.59 1.41.59.51 0 1.02-.2 1.41-.59l7.78-7.78 2.81-2.81c.8-.78.8-2.07 0-2.86zM5.41 20L4 18.59l7.72-7.72 1.47 1.35L5.41 20z\"/>\n",
              "  </svg>\n",
              "      </button>\n",
              "      \n",
              "  <style>\n",
              "    .colab-df-container {\n",
              "      display:flex;\n",
              "      flex-wrap:wrap;\n",
              "      gap: 12px;\n",
              "    }\n",
              "\n",
              "    .colab-df-convert {\n",
              "      background-color: #E8F0FE;\n",
              "      border: none;\n",
              "      border-radius: 50%;\n",
              "      cursor: pointer;\n",
              "      display: none;\n",
              "      fill: #1967D2;\n",
              "      height: 32px;\n",
              "      padding: 0 0 0 0;\n",
              "      width: 32px;\n",
              "    }\n",
              "\n",
              "    .colab-df-convert:hover {\n",
              "      background-color: #E2EBFA;\n",
              "      box-shadow: 0px 1px 2px rgba(60, 64, 67, 0.3), 0px 1px 3px 1px rgba(60, 64, 67, 0.15);\n",
              "      fill: #174EA6;\n",
              "    }\n",
              "\n",
              "    [theme=dark] .colab-df-convert {\n",
              "      background-color: #3B4455;\n",
              "      fill: #D2E3FC;\n",
              "    }\n",
              "\n",
              "    [theme=dark] .colab-df-convert:hover {\n",
              "      background-color: #434B5C;\n",
              "      box-shadow: 0px 1px 3px 1px rgba(0, 0, 0, 0.15);\n",
              "      filter: drop-shadow(0px 1px 2px rgba(0, 0, 0, 0.3));\n",
              "      fill: #FFFFFF;\n",
              "    }\n",
              "  </style>\n",
              "\n",
              "      <script>\n",
              "        const buttonEl =\n",
              "          document.querySelector('#df-f5b47196-7ac4-4a8d-a143-9124f19d32cf button.colab-df-convert');\n",
              "        buttonEl.style.display =\n",
              "          google.colab.kernel.accessAllowed ? 'block' : 'none';\n",
              "\n",
              "        async function convertToInteractive(key) {\n",
              "          const element = document.querySelector('#df-f5b47196-7ac4-4a8d-a143-9124f19d32cf');\n",
              "          const dataTable =\n",
              "            await google.colab.kernel.invokeFunction('convertToInteractive',\n",
              "                                                     [key], {});\n",
              "          if (!dataTable) return;\n",
              "\n",
              "          const docLinkHtml = 'Like what you see? Visit the ' +\n",
              "            '<a target=\"_blank\" href=https://colab.research.google.com/notebooks/data_table.ipynb>data table notebook</a>'\n",
              "            + ' to learn more about interactive tables.';\n",
              "          element.innerHTML = '';\n",
              "          dataTable['output_type'] = 'display_data';\n",
              "          await google.colab.output.renderOutput(dataTable, element);\n",
              "          const docLink = document.createElement('div');\n",
              "          docLink.innerHTML = docLinkHtml;\n",
              "          element.appendChild(docLink);\n",
              "        }\n",
              "      </script>\n",
              "    </div>\n",
              "  </div>\n",
              "  "
            ]
          },
          "metadata": {},
          "execution_count": 70
        }
      ]
    },
    {
      "cell_type": "code",
      "source": [
        "#Trazer Tipo de anime e Estilo\n",
        "df_anime_top100[\"Type\"] = df_anime_top100[\"Type\"].astype(\"category\")\n",
        "df_anime_top100[\"Demographic\"] = df_anime_top100[\"Demographic\"].astype(\"category\")\n",
        "#See the results\n",
        "df_anime_top100[[\"Type\", \"Demographic\"]].info()"
      ],
      "metadata": {
        "id": "B2_BgOsoRs-1",
        "colab": {
          "base_uri": "https://localhost:8080/"
        },
        "outputId": "58a45672-9b5a-402f-e0c3-43ab4bb995ea"
      },
      "execution_count": null,
      "outputs": [
        {
          "output_type": "stream",
          "name": "stdout",
          "text": [
            "<class 'pandas.core.frame.DataFrame'>\n",
            "Int64Index: 100 entries, 102 to 1337\n",
            "Data columns (total 2 columns):\n",
            " #   Column       Non-Null Count  Dtype   \n",
            "---  ------       --------------  -----   \n",
            " 0   Type         100 non-null    category\n",
            " 1   Demographic  100 non-null    category\n",
            "dtypes: category(2)\n",
            "memory usage: 1.3 KB\n"
          ]
        }
      ]
    },
    {
      "cell_type": "markdown",
      "source": [
        "# **PROBABILIDADE SIMPLES**\n",
        "Tomando por base o dataset escolhido, Dentre os 100 animes mais populares qual a Probabilidade do anime escolhido ter o estilo (Gênero) Shounen?"
      ],
      "metadata": {
        "id": "ya05uGXx9Grk"
      }
    },
    {
      "cell_type": "code",
      "source": [
        "probShounen = len(df_anime_top100[df_anime_top100['Demographic']=='Shounen'])/len(df_anime_top100)\n",
        "\n",
        "print('A probabilidade do anime ser do genero Shounen será de: ' + str(round((probShounen*100),2))+'%')"
      ],
      "metadata": {
        "colab": {
          "base_uri": "https://localhost:8080/"
        },
        "id": "i0pTZ3jg9VQ2",
        "outputId": "5b04411d-f3b1-4926-d624-53bdc4dd45fa"
      },
      "execution_count": null,
      "outputs": [
        {
          "output_type": "stream",
          "name": "stdout",
          "text": [
            "A probabilidade do anime ser do genero Shounen será de: 45.0%\n"
          ]
        }
      ]
    },
    {
      "cell_type": "markdown",
      "source": [
        "Tomando por base o dataset escolhido, Dentre os 100 animes mais populares qual a Probabilidade do anime do Genero Shounen ser do tipo TV?"
      ],
      "metadata": {
        "id": "4R3hl6ZB1KYy"
      }
    },
    {
      "cell_type": "code",
      "source": [
        "prob_Shou_Tv = len(df_anime_top100[df_anime_top100['Type']=='TV'])/len(df_anime_top100)\n",
        "\n",
        "print('A probabilidade do anime ser do genero Shounen  e do tipo TV será de: ' + str(round((prob_Shou_Tv*100),2))+'%')"
      ],
      "metadata": {
        "id": "9XbVImCR1BDA",
        "colab": {
          "base_uri": "https://localhost:8080/"
        },
        "outputId": "44496eb9-bd8b-4cc9-d6e0-a52ff44796cc"
      },
      "execution_count": null,
      "outputs": [
        {
          "output_type": "stream",
          "name": "stdout",
          "text": [
            "A probabilidade do anime ser do genero Shounen  e do tipo TV será de: 94.0%\n"
          ]
        }
      ]
    },
    {
      "cell_type": "markdown",
      "source": [
        "Entendo que será 94% de animes pertencentes aos 45% validados por meio da validação anterior. "
      ],
      "metadata": {
        "id": "jxlmO_hu08Cq"
      }
    },
    {
      "cell_type": "markdown",
      "source": [
        "# **PROBABILIDADE CONDICIONAL**\n",
        "Tomando por base o dataset escolhido, Dentre os 100 animes mais populares qual a Probabilidade do anime ser do tipo Tv, sadendo que o genero do anime não é Shounen"
      ],
      "metadata": {
        "id": "ZClK0Dkd_KKJ"
      }
    },
    {
      "cell_type": "code",
      "source": [
        "prob_Shou_Tv = len(df_anime_top100[(df_anime_top100['Type']=='TV') & (df_anime_top100['Demographic'] != 'Shounen')])\n",
        "prob_tv_nop_Shou = prob_Shou_Tv/len(df_anime_top100)\n",
        "print('A probabilidade de ser do tipo tv e NÃO ser do Gênero Shounen é  : ' + str(round((prob_tv_nop_Shou*100),2))+'%')"
      ],
      "metadata": {
        "colab": {
          "base_uri": "https://localhost:8080/"
        },
        "id": "B4k2xQ77OfP8",
        "outputId": "8106f547-684e-4695-c116-6e52f57fc538"
      },
      "execution_count": null,
      "outputs": [
        {
          "output_type": "stream",
          "name": "stdout",
          "text": [
            "A probabilidade de ser do tipo tv e NÃO ser do Gênero Shounen é  : 43.0%\n"
          ]
        }
      ]
    },
    {
      "cell_type": "code",
      "source": [
        "df_an = [df_anime_top100[df_anime_top100[['Type', 'Demographic']].corr()]]\n",
        "df_an"
      ],
      "metadata": {
        "id": "o1LdXrxpVmda",
        "colab": {
          "base_uri": "https://localhost:8080/"
        },
        "outputId": "d8694d25-9dd4-4358-da23-d96d573f0c66"
      },
      "execution_count": null,
      "outputs": [
        {
          "output_type": "execute_result",
          "data": {
            "text/plain": [
              "[     Name Type  Score  Score Rank  Popularity Rank Air Date Studio  \\\n",
              " 102   NaN  NaN    NaN         NaN              NaN      NaN    NaN   \n",
              " 69    NaN  NaN    NaN         NaN              NaN      NaN    NaN   \n",
              " 0     NaN  NaN    NaN         NaN              NaN      NaN    NaN   \n",
              " 113   NaN  NaN    NaN         NaN              NaN      NaN    NaN   \n",
              " 628   NaN  NaN    NaN         NaN              NaN      NaN    NaN   \n",
              " ...   ...  ...    ...         ...              ...      ...    ...   \n",
              " 576   NaN  NaN    NaN         NaN              NaN      NaN    NaN   \n",
              " 1110  NaN  NaN    NaN         NaN              NaN      NaN    NaN   \n",
              " 1156  NaN  NaN    NaN         NaN              NaN      NaN    NaN   \n",
              " 64    NaN  NaN    NaN         NaN              NaN      NaN    NaN   \n",
              " 1337  NaN  NaN    NaN         NaN              NaN      NaN    NaN   \n",
              " \n",
              "       Num. of episodes Genres Theme(s) Demographic  \n",
              " 102                NaN    NaN      NaN         NaN  \n",
              " 69                 NaN    NaN      NaN         NaN  \n",
              " 0                  NaN    NaN      NaN         NaN  \n",
              " 113                NaN    NaN      NaN         NaN  \n",
              " 628                NaN    NaN      NaN         NaN  \n",
              " ...                ...    ...      ...         ...  \n",
              " 576                NaN    NaN      NaN         NaN  \n",
              " 1110               NaN    NaN      NaN         NaN  \n",
              " 1156               NaN    NaN      NaN         NaN  \n",
              " 64                 NaN    NaN      NaN         NaN  \n",
              " 1337               NaN    NaN      NaN         NaN  \n",
              " \n",
              " [100 rows x 11 columns]]"
            ]
          },
          "metadata": {},
          "execution_count": 74
        }
      ]
    },
    {
      "cell_type": "markdown",
      "source": [
        "# **Teorema de Bayes/Scatter plot**\n",
        "\n",
        "Para ese gráfico trouxe a função para utilizaçção em dregaradê para as cores lilás e laranja, com a finalde de plotar a relação entre Apresentar o Estilo (Gênero) de anime Shounen, tal que esteja enquadrado nos 100 animes mais populares. Nesse ponto eu tentei enquandrar o **Teorema de Bayes**."
      ],
      "metadata": {
        "id": "5f7x3ac0Al0p"
      }
    },
    {
      "cell_type": "code",
      "source": [
        "#Função para utilização de gradiente das cores\n",
        "\n",
        "def hex_to_RGB(hex_str):\n",
        "    \"\"\" #FFFFFF -> [255,255,255]\"\"\"\n",
        "    #Pass 16 to the integer function for change of base\n",
        "    return [int(hex_str[i:i+2], 16) for i in range(1,6,2)]\n",
        "\n",
        "def get_color_gradient(c1, c2, n):\n",
        "    \"\"\"\n",
        "    Given two hex colors, returns a color gradient\n",
        "    with n colors.\n",
        "    \"\"\"\n",
        "    assert n > 1\n",
        "    c1_rgb = np.array(hex_to_RGB(c1))/255\n",
        "    c2_rgb = np.array(hex_to_RGB(c2))/255\n",
        "    mix_pcts = [x/(n-1) for x in range(n)]\n",
        "    rgb_colors = [((1-mix)*c1_rgb + (mix*c2_rgb)) for mix in mix_pcts]\n",
        "    return [\"#\" + \"\".join([format(int(round(val*255)), \"02x\") for val in item]) for item in rgb_colors]\n",
        "\n",
        "\n",
        " #CONFIGURAÇÃO PARA RELACIONAMENTO ENTRE ESTILO E ANIME DE MAIOR POPULARIDADE\n",
        "color1 = \"#FFA500\"\n",
        "color2 = \"#4B0082\"\n",
        "plt.rcParams[\"figure.figsize\"] = (10, 3)\n",
        "plt.scatter(df_anime_top100['Demographic'],df_anime_top100['Popularity Rank'],color = get_color_gradient(color1, color2, len(df_anime_top100 ['Popularity Rank'])))\n",
        "plt.title('Relação entre o estilo e a popularidade ',fontsize=15)\n",
        "plt.xlabel('Estilo',fontsize=15)\n",
        "plt.ylabel('Ranking de Popularidade',fontsize=15)"
      ],
      "metadata": {
        "id": "KLJdtLKjAwqP",
        "colab": {
          "base_uri": "https://localhost:8080/",
          "height": 267
        },
        "outputId": "cec26712-f866-419c-bed6-ee269a8e6857"
      },
      "execution_count": null,
      "outputs": [
        {
          "output_type": "execute_result",
          "data": {
            "text/plain": [
              "Text(0, 0.5, 'Ranking de Popularidade')"
            ]
          },
          "metadata": {},
          "execution_count": 75
        },
        {
          "output_type": "display_data",
          "data": {
            "text/plain": [
              "<Figure size 720x216 with 1 Axes>"
            ],
            "image/png": "[encoded data removed]"
          },
          "metadata": {}
        }
      ]
    },
    {
      "cell_type": "markdown",
      "source": [
        "# **Variáveis Aleatórias**"
      ],
      "metadata": {
        "id": "HLYh9HDsaqCa"
      }
    },
    {
      "cell_type": "code",
      "source": [
        "df_anime_top100.head(10)"
      ],
      "metadata": {
        "colab": {
          "base_uri": "https://localhost:8080/",
          "height": 363
        },
        "id": "i5npGg1ISL2h",
        "outputId": "9ae8be27-7d94-42c6-8c8c-150636b2f4f4"
      },
      "execution_count": null,
      "outputs": [
        {
          "output_type": "execute_result",
          "data": {
            "text/plain": [
              "                                 Name   Type  Score  Score Rank  \\\n",
              "102                Shingeki no Kyojin     TV   8.53         103   \n",
              "69                         Death Note     TV   8.63          70   \n",
              "0    Fullmetal Alchemist: Brotherhood     TV   9.14           1   \n",
              "113                     One Punch Man     TV   8.51         114   \n",
              "628             Boku no Hero Academia     TV   7.95         629   \n",
              "878                       Tokyo Ghoul     TV   7.80         879   \n",
              "604                            Naruto     TV   7.97         605   \n",
              "89                   Kimetsu no Yaiba     TV   8.55          90   \n",
              "7              Hunter x Hunter (2011)     TV   9.05           8   \n",
              "24                     Kimi no Na wa.  Movie   8.87          25   \n",
              "\n",
              "     Popularity Rank                Studio  Num. of episodes  \\\n",
              "102                1        ['Wit Studio']                25   \n",
              "69                 2          ['Madhouse']                37   \n",
              "0                  3             ['Bones']                64   \n",
              "113                4          ['Madhouse']                12   \n",
              "628                6             ['Bones']                13   \n",
              "878                7    ['Studio Pierrot']                12   \n",
              "604                8    ['Studio Pierrot']               220   \n",
              "89                 9          ['ufotable']                26   \n",
              "7                 10          ['Madhouse']               148   \n",
              "24                11  ['CoMix Wave Films']                 1   \n",
              "\n",
              "                                          Genres  \\\n",
              "102                          ['Action', 'Drama']   \n",
              "69                  ['Supernatural', 'Suspense']   \n",
              "0    ['Action', 'Adventure', 'Drama', 'Fantasy']   \n",
              "113                         ['Action', 'Comedy']   \n",
              "628                                   ['Action']   \n",
              "878              ['Action', 'Fantasy', 'Horror']   \n",
              "604           ['Action', 'Adventure', 'Fantasy']   \n",
              "89                         ['Action', 'Fantasy']   \n",
              "7             ['Action', 'Adventure', 'Fantasy']   \n",
              "24                     ['Drama', 'Supernatural']   \n",
              "\n",
              "                             Theme(s) Demographic Start Date      End Date  \\\n",
              "102  ['Gore', 'Military', 'Survival']     Shounen 2013-04-07  Sep 29, 2013   \n",
              "69                  ['Psychological']     Shounen 2006-10-04  Jun 27, 2007   \n",
              "0                        ['Military']     Shounen 2009-04-05   Jul 4, 2010   \n",
              "113         ['Parody', 'Super Power']      Seinen 2015-10-05  Dec 21, 2015   \n",
              "628         ['School', 'Super Power']     Shounen 2016-04-03  Jun 26, 2016   \n",
              "878         ['Gore', 'Psychological']      Seinen 2014-07-04  Sep 19, 2014   \n",
              "604                  ['Martial Arts']     Shounen 2002-10-03   Feb 8, 2007   \n",
              "89                     ['Historical']     Shounen 2019-04-06  Sep 28, 2019   \n",
              "7                            ['None']     Shounen 2011-10-02  Sep 24, 2014   \n",
              "24               ['Romantic Subtext']        None 2016-08-26          None   \n",
              "\n",
              "     Year  \n",
              "102  2013  \n",
              "69   2006  \n",
              "0    2009  \n",
              "113  2015  \n",
              "628  2016  \n",
              "878  2014  \n",
              "604  2002  \n",
              "89   2019  \n",
              "7    2011  \n",
              "24   2016  "
            ],
            "text/html": [
              "\n",
              "  <div id=\"df-406b1dd9-4439-4b62-965a-17b7fd8cb082\">\n",
              "    <div class=\"colab-df-container\">\n",
              "      <div>\n",
              "<style scoped>\n",
              "    .dataframe tbody tr th:only-of-type {\n",
              "        vertical-align: middle;\n",
              "    }\n",
              "\n",
              "    .dataframe tbody tr th {\n",
              "        vertical-align: top;\n",
              "    }\n",
              "\n",
              "    .dataframe thead th {\n",
              "        text-align: right;\n",
              "    }\n",
              "</style>\n",
              "<table border=\"1\" class=\"dataframe\">\n",
              "  <thead>\n",
              "    <tr style=\"text-align: right;\">\n",
              "      <th></th>\n",
              "      <th>Name</th>\n",
              "      <th>Type</th>\n",
              "      <th>Score</th>\n",
              "      <th>Score Rank</th>\n",
              "      <th>Popularity Rank</th>\n",
              "      <th>Studio</th>\n",
              "      <th>Num. of episodes</th>\n",
              "      <th>Genres</th>\n",
              "      <th>Theme(s)</th>\n",
              "      <th>Demographic</th>\n",
              "      <th>Start Date</th>\n",
              "      <th>End Date</th>\n",
              "      <th>Year</th>\n",
              "    </tr>\n",
              "  </thead>\n",
              "  <tbody>\n",
              "    <tr>\n",
              "      <th>102</th>\n",
              "      <td>Shingeki no Kyojin</td>\n",
              "      <td>TV</td>\n",
              "      <td>8.53</td>\n",
              "      <td>103</td>\n",
              "      <td>1</td>\n",
              "      <td>['Wit Studio']</td>\n",
              "      <td>25</td>\n",
              "      <td>['Action', 'Drama']</td>\n",
              "      <td>['Gore', 'Military', 'Survival']</td>\n",
              "      <td>Shounen</td>\n",
              "      <td>2013-04-07</td>\n",
              "      <td>Sep 29, 2013</td>\n",
              "      <td>2013</td>\n",
              "    </tr>\n",
              "    <tr>\n",
              "      <th>69</th>\n",
              "      <td>Death Note</td>\n",
              "      <td>TV</td>\n",
              "      <td>8.63</td>\n",
              "      <td>70</td>\n",
              "      <td>2</td>\n",
              "      <td>['Madhouse']</td>\n",
              "      <td>37</td>\n",
              "      <td>['Supernatural', 'Suspense']</td>\n",
              "      <td>['Psychological']</td>\n",
              "      <td>Shounen</td>\n",
              "      <td>2006-10-04</td>\n",
              "      <td>Jun 27, 2007</td>\n",
              "      <td>2006</td>\n",
              "    </tr>\n",
              "    <tr>\n",
              "      <th>0</th>\n",
              "      <td>Fullmetal Alchemist: Brotherhood</td>\n",
              "      <td>TV</td>\n",
              "      <td>9.14</td>\n",
              "      <td>1</td>\n",
              "      <td>3</td>\n",
              "      <td>['Bones']</td>\n",
              "      <td>64</td>\n",
              "      <td>['Action', 'Adventure', 'Drama', 'Fantasy']</td>\n",
              "      <td>['Military']</td>\n",
              "      <td>Shounen</td>\n",
              "      <td>2009-04-05</td>\n",
              "      <td>Jul 4, 2010</td>\n",
              "      <td>2009</td>\n",
              "    </tr>\n",
              "    <tr>\n",
              "      <th>113</th>\n",
              "      <td>One Punch Man</td>\n",
              "      <td>TV</td>\n",
              "      <td>8.51</td>\n",
              "      <td>114</td>\n",
              "      <td>4</td>\n",
              "      <td>['Madhouse']</td>\n",
              "      <td>12</td>\n",
              "      <td>['Action', 'Comedy']</td>\n",
              "      <td>['Parody', 'Super Power']</td>\n",
              "      <td>Seinen</td>\n",
              "      <td>2015-10-05</td>\n",
              "      <td>Dec 21, 2015</td>\n",
              "      <td>2015</td>\n",
              "    </tr>\n",
              "    <tr>\n",
              "      <th>628</th>\n",
              "      <td>Boku no Hero Academia</td>\n",
              "      <td>TV</td>\n",
              "      <td>7.95</td>\n",
              "      <td>629</td>\n",
              "      <td>6</td>\n",
              "      <td>['Bones']</td>\n",
              "      <td>13</td>\n",
              "      <td>['Action']</td>\n",
              "      <td>['School', 'Super Power']</td>\n",
              "      <td>Shounen</td>\n",
              "      <td>2016-04-03</td>\n",
              "      <td>Jun 26, 2016</td>\n",
              "      <td>2016</td>\n",
              "    </tr>\n",
              "    <tr>\n",
              "      <th>878</th>\n",
              "      <td>Tokyo Ghoul</td>\n",
              "      <td>TV</td>\n",
              "      <td>7.80</td>\n",
              "      <td>879</td>\n",
              "      <td>7</td>\n",
              "      <td>['Studio Pierrot']</td>\n",
              "      <td>12</td>\n",
              "      <td>['Action', 'Fantasy', 'Horror']</td>\n",
              "      <td>['Gore', 'Psychological']</td>\n",
              "      <td>Seinen</td>\n",
              "      <td>2014-07-04</td>\n",
              "      <td>Sep 19, 2014</td>\n",
              "      <td>2014</td>\n",
              "    </tr>\n",
              "    <tr>\n",
              "      <th>604</th>\n",
              "      <td>Naruto</td>\n",
              "      <td>TV</td>\n",
              "      <td>7.97</td>\n",
              "      <td>605</td>\n",
              "      <td>8</td>\n",
              "      <td>['Studio Pierrot']</td>\n",
              "      <td>220</td>\n",
              "      <td>['Action', 'Adventure', 'Fantasy']</td>\n",
              "      <td>['Martial Arts']</td>\n",
              "      <td>Shounen</td>\n",
              "      <td>2002-10-03</td>\n",
              "      <td>Feb 8, 2007</td>\n",
              "      <td>2002</td>\n",
              "    </tr>\n",
              "    <tr>\n",
              "      <th>89</th>\n",
              "      <td>Kimetsu no Yaiba</td>\n",
              "      <td>TV</td>\n",
              "      <td>8.55</td>\n",
              "      <td>90</td>\n",
              "      <td>9</td>\n",
              "      <td>['ufotable']</td>\n",
              "      <td>26</td>\n",
              "      <td>['Action', 'Fantasy']</td>\n",
              "      <td>['Historical']</td>\n",
              "      <td>Shounen</td>\n",
              "      <td>2019-04-06</td>\n",
              "      <td>Sep 28, 2019</td>\n",
              "      <td>2019</td>\n",
              "    </tr>\n",
              "    <tr>\n",
              "      <th>7</th>\n",
              "      <td>Hunter x Hunter (2011)</td>\n",
              "      <td>TV</td>\n",
              "      <td>9.05</td>\n",
              "      <td>8</td>\n",
              "      <td>10</td>\n",
              "      <td>['Madhouse']</td>\n",
              "      <td>148</td>\n",
              "      <td>['Action', 'Adventure', 'Fantasy']</td>\n",
              "      <td>['None']</td>\n",
              "      <td>Shounen</td>\n",
              "      <td>2011-10-02</td>\n",
              "      <td>Sep 24, 2014</td>\n",
              "      <td>2011</td>\n",
              "    </tr>\n",
              "    <tr>\n",
              "      <th>24</th>\n",
              "      <td>Kimi no Na wa.</td>\n",
              "      <td>Movie</td>\n",
              "      <td>8.87</td>\n",
              "      <td>25</td>\n",
              "      <td>11</td>\n",
              "      <td>['CoMix Wave Films']</td>\n",
              "      <td>1</td>\n",
              "      <td>['Drama', 'Supernatural']</td>\n",
              "      <td>['Romantic Subtext']</td>\n",
              "      <td>None</td>\n",
              "      <td>2016-08-26</td>\n",
              "      <td>None</td>\n",
              "      <td>2016</td>\n",
              "    </tr>\n",
              "  </tbody>\n",
              "</table>\n",
              "</div>\n",
              "      <button class=\"colab-df-convert\" onclick=\"convertToInteractive('df-406b1dd9-4439-4b62-965a-17b7fd8cb082')\"\n",
              "              title=\"Convert this dataframe to an interactive table.\"\n",
              "              style=\"display:none;\">\n",
              "        \n",
              "  <svg xmlns=\"http://www.w3.org/2000/svg\" height=\"24px\"viewBox=\"0 0 24 24\"\n",
              "       width=\"24px\">\n",
              "    <path d=\"M0 0h24v24H0V0z\" fill=\"none\"/>\n",
              "    <path d=\"M18.56 5.44l.94 2.06.94-2.06 2.06-.94-2.06-.94-.94-2.06-.94 2.06-2.06.94zm-11 1L8.5 8.5l.94-2.06 2.06-.94-2.06-.94L8.5 2.5l-.94 2.06-2.06.94zm10 10l.94 2.06.94-2.06 2.06-.94-2.06-.94-.94-2.06-.94 2.06-2.06.94z\"/><path d=\"M17.41 7.96l-1.37-1.37c-.4-.4-.92-.59-1.43-.59-.52 0-1.04.2-1.43.59L10.3 9.45l-7.72 7.72c-.78.78-.78 2.05 0 2.83L4 21.41c.39.39.9.59 1.41.59.51 0 1.02-.2 1.41-.59l7.78-7.78 2.81-2.81c.8-.78.8-2.07 0-2.86zM5.41 20L4 18.59l7.72-7.72 1.47 1.35L5.41 20z\"/>\n",
              "  </svg>\n",
              "      </button>\n",
              "      \n",
              "  <style>\n",
              "    .colab-df-container {\n",
              "      display:flex;\n",
              "      flex-wrap:wrap;\n",
              "      gap: 12px;\n",
              "    }\n",
              "\n",
              "    .colab-df-convert {\n",
              "      background-color: #E8F0FE;\n",
              "      border: none;\n",
              "      border-radius: 50%;\n",
              "      cursor: pointer;\n",
              "      display: none;\n",
              "      fill: #1967D2;\n",
              "      height: 32px;\n",
              "      padding: 0 0 0 0;\n",
              "      width: 32px;\n",
              "    }\n",
              "\n",
              "    .colab-df-convert:hover {\n",
              "      background-color: #E2EBFA;\n",
              "      box-shadow: 0px 1px 2px rgba(60, 64, 67, 0.3), 0px 1px 3px 1px rgba(60, 64, 67, 0.15);\n",
              "      fill: #174EA6;\n",
              "    }\n",
              "\n",
              "    [theme=dark] .colab-df-convert {\n",
              "      background-color: #3B4455;\n",
              "      fill: #D2E3FC;\n",
              "    }\n",
              "\n",
              "    [theme=dark] .colab-df-convert:hover {\n",
              "      background-color: #434B5C;\n",
              "      box-shadow: 0px 1px 3px 1px rgba(0, 0, 0, 0.15);\n",
              "      filter: drop-shadow(0px 1px 2px rgba(0, 0, 0, 0.3));\n",
              "      fill: #FFFFFF;\n",
              "    }\n",
              "  </style>\n",
              "\n",
              "      <script>\n",
              "        const buttonEl =\n",
              "          document.querySelector('#df-406b1dd9-4439-4b62-965a-17b7fd8cb082 button.colab-df-convert');\n",
              "        buttonEl.style.display =\n",
              "          google.colab.kernel.accessAllowed ? 'block' : 'none';\n",
              "\n",
              "        async function convertToInteractive(key) {\n",
              "          const element = document.querySelector('#df-406b1dd9-4439-4b62-965a-17b7fd8cb082');\n",
              "          const dataTable =\n",
              "            await google.colab.kernel.invokeFunction('convertToInteractive',\n",
              "                                                     [key], {});\n",
              "          if (!dataTable) return;\n",
              "\n",
              "          const docLinkHtml = 'Like what you see? Visit the ' +\n",
              "            '<a target=\"_blank\" href=https://colab.research.google.com/notebooks/data_table.ipynb>data table notebook</a>'\n",
              "            + ' to learn more about interactive tables.';\n",
              "          element.innerHTML = '';\n",
              "          dataTable['output_type'] = 'display_data';\n",
              "          await google.colab.output.renderOutput(dataTable, element);\n",
              "          const docLink = document.createElement('div');\n",
              "          docLink.innerHTML = docLinkHtml;\n",
              "          element.appendChild(docLink);\n",
              "        }\n",
              "      </script>\n",
              "    </div>\n",
              "  </div>\n",
              "  "
            ]
          },
          "metadata": {},
          "execution_count": 117
        }
      ]
    },
    {
      "cell_type": "code",
      "source": [
        "df_anime_top100['Demographic'].value_counts()"
      ],
      "metadata": {
        "colab": {
          "base_uri": "https://localhost:8080/"
        },
        "id": "_B4iGXULVGKe",
        "outputId": "991a6909-c6cb-429f-e2a8-2bea70452107"
      },
      "execution_count": null,
      "outputs": [
        {
          "output_type": "execute_result",
          "data": {
            "text/plain": [
              "Shounen    45\n",
              "None       44\n",
              "Seinen     10\n",
              "Shoujo      1\n",
              "Name: Demographic, dtype: int64"
            ]
          },
          "metadata": {},
          "execution_count": 120
        }
      ]
    },
    {
      "cell_type": "code",
      "source": [
        "df_anime_top100['Demographic'].value_counts(sort=False).sort_index()"
      ],
      "metadata": {
        "colab": {
          "base_uri": "https://localhost:8080/"
        },
        "id": "dw7xf0rJWSST",
        "outputId": "937a6c3a-7d46-4852-ad1b-facd5596a06c"
      },
      "execution_count": null,
      "outputs": [
        {
          "output_type": "execute_result",
          "data": {
            "text/plain": [
              "None       44\n",
              "Seinen     10\n",
              "Shoujo      1\n",
              "Shounen    45\n",
              "Name: Demographic, dtype: int64"
            ]
          },
          "metadata": {},
          "execution_count": 121
        }
      ]
    },
    {
      "cell_type": "markdown",
      "source": [
        "# **Distribuições Amostrais**"
      ],
      "metadata": {
        "id": "up9TIqxCd3P0"
      }
    },
    {
      "cell_type": "code",
      "source": [
        "from numpy.random import seed\n",
        "from numpy.random import randint\n",
        "\n",
        "from numpy import mean\n",
        "\n",
        "seed(1)\n",
        "\n",
        "rol = randint(1,7,50)\n",
        "\n",
        "print(rol)\n",
        "print(mean(rol))"
      ],
      "metadata": {
        "colab": {
          "base_uri": "https://localhost:8080/"
        },
        "id": "pDY44JKC916H",
        "outputId": "2a7f3310-546f-454f-bef5-4493fbd9be51"
      },
      "execution_count": null,
      "outputs": [
        {
          "output_type": "stream",
          "name": "stdout",
          "text": [
            "[6 4 5 1 2 4 6 1 1 2 5 6 5 2 3 5 6 3 5 4 5 3 5 6 3 5 2 2 1 6 2 2 6 2 2 1 5\n",
            " 2 1 1 6 4 3 2 1 4 6 2 2 4]\n",
            "3.44\n"
          ]
        }
      ]
    },
    {
      "cell_type": "code",
      "source": [
        "from matplotlib import  pyplot\n",
        "from numpy.random import sample\n",
        "from numpy import mean\n",
        "\n",
        "mediaAmostras=[mean(df_anime_top100['Popularity Rank'].sample(1)) for _ in  range(100)]\n",
        "pyplot.hist(mediaAmostras)\n",
        "pyplot.show()"
      ],
      "metadata": {
        "colab": {
          "base_uri": "https://localhost:8080/",
          "height": 322
        },
        "id": "IJEJtZiceCRb",
        "outputId": "8ee0f832-99e1-4717-9324-3e7cc039c850"
      },
      "execution_count": null,
      "outputs": [
        {
          "output_type": "display_data",
          "data": {
            "text/plain": [
              "<Figure size 720x360 with 1 Axes>"
            ],
            "image/png": "[encoded data removed]"
          },
          "metadata": {}
        }
      ]
    },
    {
      "cell_type": "markdown",
      "source": [
        "# **GRÁFICOS**\n",
        "Para esse gráfico eu irei aplicar sobrea variável df_anime_total para apresentar todos os tipos de animes existentes no meu dataset."
      ],
      "metadata": {
        "id": "9GyAjqEuDz3E"
      }
    },
    {
      "cell_type": "code",
      "source": [
        "#Imprimir todos os tipos de Anime sem utilizar o espaço amostral de 100 animes mais populares\n",
        "ordered_cats = np.asarray(df_anime_total.Type.value_counts().index)\n",
        "plt.rcParams[\"figure.figsize\"] = (20,10)\n",
        "ax = sns.countplot(x=\"Type\", data=df_anime_total, order=ordered_cats)\n",
        "ax.set_title(\"Total Animes por Título\", fontsize=20)\n",
        "\n"
      ],
      "metadata": {
        "colab": {
          "base_uri": "https://localhost:8080/",
          "height": 649
        },
        "id": "yw4DI9n_D9hj",
        "outputId": "976e98ec-639b-4410-ec39-d775fc29e5fc"
      },
      "execution_count": null,
      "outputs": [
        {
          "output_type": "execute_result",
          "data": {
            "text/plain": [
              "Text(0.5, 1.0, 'Total Animes by Type')"
            ]
          },
          "metadata": {},
          "execution_count": 105
        },
        {
          "output_type": "display_data",
          "data": {
            "text/plain": [
              "<Figure size 1440x720 with 1 Axes>"
            ],
            "image/png": "[encoded data removed]"
          },
          "metadata": {}
        }
      ]
    },
    {
      "cell_type": "markdown",
      "source": [
        "# **Box Plot**\n",
        "Qual dos Tipos de Anime apresentam maior representatividade com relação a popularidade.\n",
        "Para essa amosragem eu trouxe as validações  para o a variavel df_anime_top100 e agrupei para ter a quantidade de animes separados por filmes  e TV."
      ],
      "metadata": {
        "id": "Q9WgECAs-goB"
      }
    },
    {
      "cell_type": "code",
      "source": [
        "#Box plot\n",
        "ordered_cats = df_anime_top100.groupby(\"Type\").Score.median().sort_values(ascending=False).index.values\n",
        "plt.rcParams[\"figure.figsize\"] = (8, 6)\n",
        "ax = sns.boxplot(y=\"Score\", x=\"Type\", order=ordered_cats, data=df_anime_top100)\n",
        "ax.set_xlabel(\"Type\", fontsize=15)\n",
        "ax.set_ylabel(\"Score\",fontsize=15)\n",
        "ax.set_title(\"Relação entre o  Score e o tipo do Anime\", fontsize=20)\n"
      ],
      "metadata": {
        "colab": {
          "base_uri": "https://localhost:8080/",
          "height": 434
        },
        "id": "Jt5tvrs2v6ZJ",
        "outputId": "b9708f7b-d729-4130-f9ad-e93cfb547279"
      },
      "execution_count": null,
      "outputs": [
        {
          "output_type": "execute_result",
          "data": {
            "text/plain": [
              "Text(0.5, 1.0, 'Relação entre o  Score e o tipo do Anime')"
            ]
          },
          "metadata": {},
          "execution_count": 77
        },
        {
          "output_type": "display_data",
          "data": {
            "text/plain": [
              "<Figure size 576x432 with 1 Axes>"
            ],
            "image/png": "[encoded data removed]"
          },
          "metadata": {}
        }
      ]
    },
    {
      "cell_type": "code",
      "source": [
        "#VALIDAÇÃO PARA CORREÇÃO DO BOX PLOT COM RELAÇÃO AO APRESENTADO MAIS CEDO \n",
        "probShounen = df_anime_top100.groupby('Type')['Popularity Rank', 'Demographic'].count()\n",
        "probShounen"
      ],
      "metadata": {
        "colab": {
          "base_uri": "https://localhost:8080/",
          "height": 179
        },
        "id": "h5z6zmrB4v06",
        "outputId": "db828200-6791-40ea-cb58-fedbab4cbe57"
      },
      "execution_count": null,
      "outputs": [
        {
          "output_type": "stream",
          "name": "stderr",
          "text": [
            "<ipython-input-79-495a3b70f3d2>:2: FutureWarning: Indexing with multiple keys (implicitly converted to a tuple of keys) will be deprecated, use a list instead.\n",
            "  probShounen = df_anime_top100.groupby('Type')['Popularity Rank', 'Demographic'].count()\n"
          ]
        },
        {
          "output_type": "execute_result",
          "data": {
            "text/plain": [
              "       Popularity Rank  Demographic\n",
              "Type                               \n",
              "Movie                6            6\n",
              "TV                  94           94"
            ],
            "text/html": [
              "\n",
              "  <div id=\"df-05225e90-685b-4297-bc1a-e187df4ff7c3\">\n",
              "    <div class=\"colab-df-container\">\n",
              "      <div>\n",
              "<style scoped>\n",
              "    .dataframe tbody tr th:only-of-type {\n",
              "        vertical-align: middle;\n",
              "    }\n",
              "\n",
              "    .dataframe tbody tr th {\n",
              "        vertical-align: top;\n",
              "    }\n",
              "\n",
              "    .dataframe thead th {\n",
              "        text-align: right;\n",
              "    }\n",
              "</style>\n",
              "<table border=\"1\" class=\"dataframe\">\n",
              "  <thead>\n",
              "    <tr style=\"text-align: right;\">\n",
              "      <th></th>\n",
              "      <th>Popularity Rank</th>\n",
              "      <th>Demographic</th>\n",
              "    </tr>\n",
              "    <tr>\n",
              "      <th>Type</th>\n",
              "      <th></th>\n",
              "      <th></th>\n",
              "    </tr>\n",
              "  </thead>\n",
              "  <tbody>\n",
              "    <tr>\n",
              "      <th>Movie</th>\n",
              "      <td>6</td>\n",
              "      <td>6</td>\n",
              "    </tr>\n",
              "    <tr>\n",
              "      <th>TV</th>\n",
              "      <td>94</td>\n",
              "      <td>94</td>\n",
              "    </tr>\n",
              "  </tbody>\n",
              "</table>\n",
              "</div>\n",
              "      <button class=\"colab-df-convert\" onclick=\"convertToInteractive('df-05225e90-685b-4297-bc1a-e187df4ff7c3')\"\n",
              "              title=\"Convert this dataframe to an interactive table.\"\n",
              "              style=\"display:none;\">\n",
              "        \n",
              "  <svg xmlns=\"http://www.w3.org/2000/svg\" height=\"24px\"viewBox=\"0 0 24 24\"\n",
              "       width=\"24px\">\n",
              "    <path d=\"M0 0h24v24H0V0z\" fill=\"none\"/>\n",
              "    <path d=\"M18.56 5.44l.94 2.06.94-2.06 2.06-.94-2.06-.94-.94-2.06-.94 2.06-2.06.94zm-11 1L8.5 8.5l.94-2.06 2.06-.94-2.06-.94L8.5 2.5l-.94 2.06-2.06.94zm10 10l.94 2.06.94-2.06 2.06-.94-2.06-.94-.94-2.06-.94 2.06-2.06.94z\"/><path d=\"M17.41 7.96l-1.37-1.37c-.4-.4-.92-.59-1.43-.59-.52 0-1.04.2-1.43.59L10.3 9.45l-7.72 7.72c-.78.78-.78 2.05 0 2.83L4 21.41c.39.39.9.59 1.41.59.51 0 1.02-.2 1.41-.59l7.78-7.78 2.81-2.81c.8-.78.8-2.07 0-2.86zM5.41 20L4 18.59l7.72-7.72 1.47 1.35L5.41 20z\"/>\n",
              "  </svg>\n",
              "      </button>\n",
              "      \n",
              "  <style>\n",
              "    .colab-df-container {\n",
              "      display:flex;\n",
              "      flex-wrap:wrap;\n",
              "      gap: 12px;\n",
              "    }\n",
              "\n",
              "    .colab-df-convert {\n",
              "      background-color: #E8F0FE;\n",
              "      border: none;\n",
              "      border-radius: 50%;\n",
              "      cursor: pointer;\n",
              "      display: none;\n",
              "      fill: #1967D2;\n",
              "      height: 32px;\n",
              "      padding: 0 0 0 0;\n",
              "      width: 32px;\n",
              "    }\n",
              "\n",
              "    .colab-df-convert:hover {\n",
              "      background-color: #E2EBFA;\n",
              "      box-shadow: 0px 1px 2px rgba(60, 64, 67, 0.3), 0px 1px 3px 1px rgba(60, 64, 67, 0.15);\n",
              "      fill: #174EA6;\n",
              "    }\n",
              "\n",
              "    [theme=dark] .colab-df-convert {\n",
              "      background-color: #3B4455;\n",
              "      fill: #D2E3FC;\n",
              "    }\n",
              "\n",
              "    [theme=dark] .colab-df-convert:hover {\n",
              "      background-color: #434B5C;\n",
              "      box-shadow: 0px 1px 3px 1px rgba(0, 0, 0, 0.15);\n",
              "      filter: drop-shadow(0px 1px 2px rgba(0, 0, 0, 0.3));\n",
              "      fill: #FFFFFF;\n",
              "    }\n",
              "  </style>\n",
              "\n",
              "      <script>\n",
              "        const buttonEl =\n",
              "          document.querySelector('#df-05225e90-685b-4297-bc1a-e187df4ff7c3 button.colab-df-convert');\n",
              "        buttonEl.style.display =\n",
              "          google.colab.kernel.accessAllowed ? 'block' : 'none';\n",
              "\n",
              "        async function convertToInteractive(key) {\n",
              "          const element = document.querySelector('#df-05225e90-685b-4297-bc1a-e187df4ff7c3');\n",
              "          const dataTable =\n",
              "            await google.colab.kernel.invokeFunction('convertToInteractive',\n",
              "                                                     [key], {});\n",
              "          if (!dataTable) return;\n",
              "\n",
              "          const docLinkHtml = 'Like what you see? Visit the ' +\n",
              "            '<a target=\"_blank\" href=https://colab.research.google.com/notebooks/data_table.ipynb>data table notebook</a>'\n",
              "            + ' to learn more about interactive tables.';\n",
              "          element.innerHTML = '';\n",
              "          dataTable['output_type'] = 'display_data';\n",
              "          await google.colab.output.renderOutput(dataTable, element);\n",
              "          const docLink = document.createElement('div');\n",
              "          docLink.innerHTML = docLinkHtml;\n",
              "          element.appendChild(docLink);\n",
              "        }\n",
              "      </script>\n",
              "    </div>\n",
              "  </div>\n",
              "  "
            ]
          },
          "metadata": {},
          "execution_count": 79
        }
      ]
    },
    {
      "cell_type": "code",
      "source": [],
      "metadata": {
        "id": "0Joyu15TAoIX"
      },
      "execution_count": null,
      "outputs": []
    },
    {
      "cell_type": "markdown",
      "source": [
        "# **Mapa de calor para correlação (heatmap)**\n",
        "Aqui eu tentei relacionar por meio da variável df_anime_total e depois usar o que eu acredito que seria um espaço amostral quando faço um recorte para os 100 animes mais populares, independente do valor de pontuação do score. No intuito de mostrar que um anime pode ser mais popular e ter uma avaliação menor."
      ],
      "metadata": {
        "id": "lvbLXUnmHLrv"
      }
    },
    {
      "cell_type": "code",
      "source": [
        "plt.figure(figsize = (12,10))\n",
        "sns.heatmap(df_anime_total.corr(),fmt='.2f',square =True, linecolor =\"white\", annot= True)\n",
        "plt.title(\"Mapa de Carolr para todo DataSet\",fontsize=15)\n",
        "plt.show()"
      ],
      "metadata": {
        "colab": {
          "base_uri": "https://localhost:8080/",
          "height": 604
        },
        "id": "kQfSTLWEb1ZS",
        "outputId": "61c4986f-00c7-49c1-bf00-95c082d0ced1"
      },
      "execution_count": null,
      "outputs": [
        {
          "output_type": "display_data",
          "data": {
            "text/plain": [
              "<Figure size 864x720 with 2 Axes>"
            ],
            "image/png": "[encoded data removed]"
          },
          "metadata": {}
        }
      ]
    },
    {
      "cell_type": "code",
      "source": [
        "plt.figure(figsize = (12,10))\n",
        "sns.heatmap(df_anime_top100.corr(),fmt='.2f',square =True, linecolor =\"white\", annot= True)\n",
        "plt.title(\"Mapa para Recorte dos 100 animes mais populares\",fontsize=15)\n",
        "plt.show()"
      ],
      "metadata": {
        "colab": {
          "base_uri": "https://localhost:8080/",
          "height": 604
        },
        "id": "f5GNtGnh_4ii",
        "outputId": "406b3fe7-e029-4adc-e88f-9e6aade3eb7a"
      },
      "execution_count": null,
      "outputs": [
        {
          "output_type": "display_data",
          "data": {
            "text/plain": [
              "<Figure size 864x720 with 2 Axes>"
            ],
            "image/png": "[encoded data removed]"
          },
          "metadata": {}
        }
      ]
    },
    {
      "cell_type": "markdown",
      "source": [
        "# **Histrograma**"
      ],
      "metadata": {
        "id": "O6n2V-XVGM5a"
      }
    },
    {
      "cell_type": "code",
      "source": [
        "#Lineplot of Series by year\n",
        "animes_by_year = df_anime_total.groupby([\"Type\", \"Year\"], as_index=False).size()\n",
        "plt.rcParams[\"figure.figsize\"] = (10,5)\n",
        "ax = sns.lineplot(x=\"Year\", y=\"size\", data=animes_by_year, hue=\"Type\",\n",
        "                  hue_order=[\"TV\", \"Movie\", \"OVA\", \"Special\", \"ONA\", \"Music\"])\n",
        "sns.move_legend(ax, \"upper left\")\n",
        "ax.set_ylabel(\"Total Anime\")\n",
        "ax.set_title(\"Total Anime by Year\", fontsize=20)"
      ],
      "metadata": {
        "colab": {
          "base_uri": "https://localhost:8080/",
          "height": 377
        },
        "id": "SaUxX-zODKyu",
        "outputId": "230177c1-bffc-4a80-c1ef-2e9a9f3524d4"
      },
      "execution_count": null,
      "outputs": [
        {
          "output_type": "execute_result",
          "data": {
            "text/plain": [
              "Text(0.5, 1.0, 'Total Anime by Year')"
            ]
          },
          "metadata": {},
          "execution_count": 82
        },
        {
          "output_type": "display_data",
          "data": {
            "text/plain": [
              "<Figure size 720x360 with 1 Axes>"
            ],
            "image/png": "[encoded data removed]"
          },
          "metadata": {}
        }
      ]
    },
    {
      "cell_type": "markdown",
      "source": [
        "Perceba que utilizei a quebra de colunas para gerar a coluna \"Year\", para trazer na variável df_anime_total todas as informações existentes dessa vez sem o uso do que eu entendi como espaço amostral(variável df_anime_top100). Exatamente para legitimar alguns dos meu outros gáficos que trouxeram amostras que culminam na evolução da popularidade dos animes que tem o tipo TV. fechando assim o meu story teling. Que traz os 100 animmes mais populares, representados pelo estilo (gênero) Shounen, atrelado ao processo de disseminação da cultura Japonesa vinculada aos animes."
      ],
      "metadata": {
        "id": "3WtmombtDwCt"
      }
    }
  ]
}